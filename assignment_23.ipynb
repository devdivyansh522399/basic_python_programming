{
  "cells": [
    {
      "cell_type": "markdown",
      "metadata": {
        "id": "view-in-github",
        "colab_type": "text"
      },
      "source": [
        "<a href=\"https://colab.research.google.com/github/devdivyansh522399/basic_python_programming/blob/main/assignment_23.ipynb\" target=\"_parent\"><img src=\"https://colab.research.google.com/assets/colab-badge.svg\" alt=\"Open In Colab\"/></a>"
      ]
    },
    {
      "cell_type": "markdown",
      "source": [
        "Question 1: Create a function that takes a number as an argument and returns True or False depending\n",
        "on whether the number is symmetrical or not. A number is symmetrical when it is the same as\n",
        "its reverse."
      ],
      "metadata": {
        "id": "XpjvgU9Gneu3"
      }
    },
    {
      "cell_type": "code",
      "source": [
        "def funct(n):\n",
        "  temp = n\n",
        "  rev =0\n",
        "  while(n>0):\n",
        "    dig = n%10\n",
        "    rev = rev*10+dig\n",
        "    n= n//10\n",
        "  if(temp==rev):\n",
        "    return True\n",
        "  else:\n",
        "    return False\n",
        "n = int(input())\n",
        "print(funct(n))\n"
      ],
      "metadata": {
        "colab": {
          "base_uri": "https://localhost:8080/"
        },
        "id": "s7YyrErPniuh",
        "outputId": "d531e853-9f58-411a-d720-2c8b624a7567"
      },
      "execution_count": 16,
      "outputs": [
        {
          "output_type": "stream",
          "name": "stdout",
          "text": [
            "10\n",
            "False\n"
          ]
        }
      ]
    },
    {
      "cell_type": "markdown",
      "source": [
        "Question 2: Given a string of numbers separated by a comma and space, return the product of the\n",
        "numbers."
      ],
      "metadata": {
        "id": "qYUQdCippWGW"
      }
    },
    {
      "cell_type": "code",
      "source": [
        "def simon_says(l):\n",
        "  lst = l.split()\n",
        "  ans = 1\n",
        "  for i in lst:\n",
        "    ans = ans*int(i)\n",
        "  return ans\n",
        "st = input()\n",
        "print(simon_says(st))\n",
        "\n",
        "  \n"
      ],
      "metadata": {
        "colab": {
          "base_uri": "https://localhost:8080/"
        },
        "id": "KelzGiI4nxZw",
        "outputId": "56ebea1b-6860-48f8-d696-d995217fa2c2"
      },
      "execution_count": 18,
      "outputs": [
        {
          "output_type": "stream",
          "name": "stdout",
          "text": [
            "1 2 3 4 5 6\n",
            "720\n"
          ]
        }
      ]
    },
    {
      "cell_type": "markdown",
      "source": [
        "Question 3: Create a function that squares every digit of a number."
      ],
      "metadata": {
        "id": "soSfXUREqPt3"
      }
    },
    {
      "cell_type": "code",
      "source": [
        "n = int(input())\n",
        "s = str(n)\n",
        "st =''\n",
        "for i in range(len(s)):\n",
        "  st+= str(int(s[i])**2)\n",
        "print(st)"
      ],
      "metadata": {
        "colab": {
          "base_uri": "https://localhost:8080/"
        },
        "id": "LDf9rtDbqDLP",
        "outputId": "e17a2186-4cee-49f0-ab32-13be09209793"
      },
      "execution_count": 22,
      "outputs": [
        {
          "output_type": "stream",
          "name": "stdout",
          "text": [
            "123455\n",
            "149162525\n"
          ]
        }
      ]
    },
    {
      "cell_type": "markdown",
      "source": [
        "Question 4: Create a function that returns the mean of all digits."
      ],
      "metadata": {
        "id": "oa2T8m7fsDIU"
      }
    },
    {
      "cell_type": "code",
      "source": [
        "def mean(s):\n",
        "  sum =0\n",
        "  for i in range(len(s)):\n",
        "      sum += int(s[i])\n",
        "  return sum/len(s)\n",
        "s = input()\n",
        "print(mean(s))"
      ],
      "metadata": {
        "colab": {
          "base_uri": "https://localhost:8080/"
        },
        "id": "qSiq-F_yrrdl",
        "outputId": "7f527bff-06a6-42ad-ac0a-22bd8350576d"
      },
      "execution_count": 23,
      "outputs": [
        {
          "output_type": "stream",
          "name": "stdout",
          "text": [
            "12345\n",
            "3.0\n"
          ]
        }
      ]
    }
  ],
  "metadata": {
    "colab": {
      "collapsed_sections": [],
      "name": "Welcome To Colaboratory",
      "toc_visible": true,
      "provenance": [],
      "include_colab_link": true
    },
    "kernelspec": {
      "display_name": "Python 3",
      "name": "python3"
    }
  },
  "nbformat": 4,
  "nbformat_minor": 0
}