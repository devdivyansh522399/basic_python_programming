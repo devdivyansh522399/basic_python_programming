{
  "cells": [
    {
      "cell_type": "markdown",
      "metadata": {
        "id": "view-in-github",
        "colab_type": "text"
      },
      "source": [
        "<a href=\"https://colab.research.google.com/github/devdivyansh522399/python_basic_programming/blob/main/assignment_07.ipynb\" target=\"_parent\"><img src=\"https://colab.research.google.com/assets/colab-badge.svg\" alt=\"Open In Colab\"/></a>"
      ]
    },
    {
      "cell_type": "markdown",
      "source": [
        "Question 1: Write a Python Program to find sum of array?"
      ],
      "metadata": {
        "id": "H1EqJmuyk9Ee"
      }
    },
    {
      "cell_type": "code",
      "source": [
        "n = int(input(\"Enter the size of array : \"))\n",
        "arr = []\n",
        "sum =0\n",
        "for i in range(n):\n",
        "  temp = int(input())\n",
        "  sum = sum + temp\n",
        "  arr.append(temp)\n",
        "print(\"sum of array element is : \" + str(sum))\n"
      ],
      "metadata": {
        "colab": {
          "base_uri": "https://localhost:8080/"
        },
        "id": "iGdlscSvlF0H",
        "outputId": "27036fff-f175-4143-f3a7-66888ca9996b"
      },
      "execution_count": 14,
      "outputs": [
        {
          "output_type": "stream",
          "name": "stdout",
          "text": [
            "Enter the size of array : 5\n",
            "1\n",
            "2\n",
            "3\n",
            "4\n",
            "6\n",
            "sum of array element is : 16\n"
          ]
        }
      ]
    },
    {
      "cell_type": "markdown",
      "source": [
        "Question 2: Write a Python Program to find largest element in an array?\n"
      ],
      "metadata": {
        "id": "Q3LtgmD3nGy0"
      }
    },
    {
      "cell_type": "code",
      "source": [
        "n = int(input(\"Enter the size of array : \"))\n",
        "arr = []\n",
        "max = 0\n",
        "for i in range(n):\n",
        "  temp = int(input())\n",
        "  arr.append(temp)\n",
        "  if(max<temp):\n",
        "    max = temp\n",
        "print(\"max element is : \" + str(max))\n"
      ],
      "metadata": {
        "colab": {
          "base_uri": "https://localhost:8080/"
        },
        "id": "PozJWecPmi23",
        "outputId": "b69aa222-97f4-4255-9db5-3709b9e2f5be"
      },
      "execution_count": 15,
      "outputs": [
        {
          "output_type": "stream",
          "name": "stdout",
          "text": [
            "Enter the size of array : 5\n",
            "1\n",
            "2\n",
            "3\n",
            "4\n",
            "5\n",
            "max element is : 5\n"
          ]
        }
      ]
    },
    {
      "cell_type": "markdown",
      "source": [
        "Question 3: Write a Python Program for array rotation?"
      ],
      "metadata": {
        "id": "P07r3xhjosYs"
      }
    },
    {
      "cell_type": "code",
      "source": [
        "def rotateList(arr,d,n):\n",
        "  arr[:]=arr[d:n]+arr[0:d]\n",
        "  return arr\n",
        "n = int(input(\"Enter number : \"))\n",
        "arr = list(map(int, input().split()))[:n]\n",
        "print(arr)\n",
        "d = int(input(\"Enter the number of rotation : \"))\n",
        "print(\"Rotated list is\")\n",
        "print(rotateList(arr,d,len(arr)))"
      ],
      "metadata": {
        "colab": {
          "base_uri": "https://localhost:8080/"
        },
        "id": "_dhIK-HCoYUj",
        "outputId": "db83443e-cf25-4e9b-a1e0-f96ff7f99bab"
      },
      "execution_count": 18,
      "outputs": [
        {
          "output_type": "stream",
          "name": "stdout",
          "text": [
            "Enter number : 5\n",
            "1 2 3 4 5\n",
            "[1, 2, 3, 4, 5]\n",
            "Enter the number of rotation : 3\n",
            "Rotated list is\n",
            "[4, 5, 1, 2, 3]\n"
          ]
        }
      ]
    },
    {
      "cell_type": "markdown",
      "source": [
        "Question 4:Write a Python Program to Split the array and add the first part to the end?"
      ],
      "metadata": {
        "id": "J0qaywilqeeO"
      }
    },
    {
      "cell_type": "code",
      "source": [
        "def splits(arr, n, k): \n",
        "   b = arr[:k]\n",
        "   return (arr[k::]+b[::])\n",
        "n = int(input(\"Enter the size of array : \"))\n",
        "arr = list(map(int, input().split()))[:n]\n",
        "position = int(input(\"Enter the position\"))\n",
        "arr = splits(arr, n, position)\n",
        "for i in range(0, n): \n",
        "    print(arr[i], end = ' ')"
      ],
      "metadata": {
        "colab": {
          "base_uri": "https://localhost:8080/"
        },
        "id": "kHkGmPThqQdb",
        "outputId": "d7ae50ae-890f-4c0d-cee8-93464c198048"
      },
      "execution_count": 19,
      "outputs": [
        {
          "output_type": "stream",
          "name": "stdout",
          "text": [
            "Enter the size of array : 5\n",
            "1 2 3 4 5\n",
            "Enter the position2\n",
            "3 4 5 1 2 "
          ]
        }
      ]
    },
    {
      "cell_type": "markdown",
      "source": [
        "Question 5: Write a Python Program to check if given array is Monotonic?"
      ],
      "metadata": {
        "id": "MyD7yhtYrEnh"
      }
    },
    {
      "cell_type": "code",
      "source": [
        "def isMonotonic(A):\n",
        "    return (all(A[i] <= A[i + 1] for i in range(len(A) - 1)) or\n",
        "            all(A[i] >= A[i + 1] for i in range(len(A) - 1)))\n",
        "n = int(input(\"Enter the size of array : \"))\n",
        "arr = list(map(int, input().split()))[:n]\n",
        "print(arr)\n",
        "if(isMonotonic(arr)):\n",
        "  print(\"YES\")\n",
        "else:\n",
        "  print(\"NO\")"
      ],
      "metadata": {
        "colab": {
          "base_uri": "https://localhost:8080/"
        },
        "id": "ESmskKeCq_dx",
        "outputId": "a0b56ad6-74c0-4bb4-c3a4-658f9ef72990"
      },
      "execution_count": 20,
      "outputs": [
        {
          "output_type": "stream",
          "name": "stdout",
          "text": [
            "Enter the size of array : 5\n",
            "1 2 3 4 5\n",
            "[1, 2, 3, 4, 5]\n",
            "YES\n"
          ]
        }
      ]
    }
  ],
  "metadata": {
    "colab": {
      "collapsed_sections": [],
      "name": "Welcome To Colaboratory",
      "provenance": [],
      "include_colab_link": true
    },
    "kernelspec": {
      "display_name": "Python 3",
      "name": "python3"
    }
  },
  "nbformat": 4,
  "nbformat_minor": 0
}