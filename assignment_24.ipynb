{
  "cells": [
    {
      "cell_type": "markdown",
      "metadata": {
        "id": "view-in-github",
        "colab_type": "text"
      },
      "source": [
        "<a href=\"https://colab.research.google.com/github/devdivyansh522399/basic_python_programming/blob/main/assignment_24.ipynb\" target=\"_parent\"><img src=\"https://colab.research.google.com/assets/colab-badge.svg\" alt=\"Open In Colab\"/></a>"
      ]
    },
    {
      "cell_type": "markdown",
      "source": [
        "Question 1:Create a function that takes an integer and returns a list from 1 to the given number, where:\n",
        "1. If the number can be divided evenly by 4, amplify it by 10 (i.e. return 10 times the\n",
        "number).\n",
        "2. If the number cannot be divided evenly by 4, simply return the number."
      ],
      "metadata": {
        "id": "XpjvgU9Gneu3"
      }
    },
    {
      "cell_type": "code",
      "source": [
        "def amplify(l):\n",
        "  for i in range(len(l)):\n",
        "    if l[i]%4==0:\n",
        "      l[i] = l[i]*10\n",
        "  return l\n",
        "l = list(map(int, input().split()))[:5]\n",
        "print(amplify(l))\n",
        "      "
      ],
      "metadata": {
        "colab": {
          "base_uri": "https://localhost:8080/"
        },
        "id": "s7YyrErPniuh",
        "outputId": "012dbdb9-9443-4c4e-ccdb-91ed7a3c70b4"
      },
      "execution_count": 24,
      "outputs": [
        {
          "output_type": "stream",
          "name": "stdout",
          "text": [
            "1 2 3 4 5\n",
            "[1, 2, 3, 40, 5]\n"
          ]
        }
      ]
    },
    {
      "cell_type": "markdown",
      "source": [
        "Question 2: Create a function that takes a list of numbers and return the number that&#39;s unique."
      ],
      "metadata": {
        "id": "qYUQdCippWGW"
      }
    },
    {
      "cell_type": "code",
      "source": [
        "import numpy as np\n",
        "def unique(list1):\n",
        "    x = np.array(list1)\n",
        "    print(np.unique(x))\n",
        "l = list(map(int, input().split()))[:5]\n",
        "print(unique(l))"
      ],
      "metadata": {
        "colab": {
          "base_uri": "https://localhost:8080/"
        },
        "id": "KelzGiI4nxZw",
        "outputId": "564595fe-c75a-48c6-83bb-521d62e52033"
      },
      "execution_count": 25,
      "outputs": [
        {
          "output_type": "stream",
          "name": "stdout",
          "text": [
            " 1 1 1 1 2  \n",
            "[1 2]\n",
            "None\n"
          ]
        }
      ]
    },
    {
      "cell_type": "markdown",
      "source": [
        "Question 3: Your task is to create a Circle constructor that creates a circle with a radius provided by an\n",
        "argument. The circles constructed must have two getters getArea() (PIr^2) and\n",
        "getPerimeter() (2PI*r) which give both respective areas and perimeter (circumference)."
      ],
      "metadata": {
        "id": "soSfXUREqPt3"
      }
    },
    {
      "cell_type": "code",
      "source": [
        "class circle:\n",
        "  def __init__(self, radius):\n",
        "    self.radius = radius\n",
        "  def getArea(self):\n",
        "    return (self.radius**2)*3.14\n",
        "  def perimeter(self):\n",
        "    return self.radius*2*3.14\n",
        "n = int(input(\"Entr the radius : \"))\n",
        "c = circle(n)\n",
        "print(c.getArea())\n",
        "print(round(c.perimeter()))"
      ],
      "metadata": {
        "colab": {
          "base_uri": "https://localhost:8080/"
        },
        "id": "LDf9rtDbqDLP",
        "outputId": "7915baa6-1522-431c-c715-846e4cb63c52"
      },
      "execution_count": 28,
      "outputs": [
        {
          "output_type": "stream",
          "name": "stdout",
          "text": [
            "Entr the radius : 5\n",
            "78.5\n",
            "31\n"
          ]
        }
      ]
    },
    {
      "cell_type": "markdown",
      "source": [
        "Question 4: Create a function that validates whether three given integers form a Pythagorean triplet. The\n",
        "sum of the squares of the two smallest integers must equal the square of the largest number to\n",
        "be validated."
      ],
      "metadata": {
        "id": "oa2T8m7fsDIU"
      }
    },
    {
      "cell_type": "code",
      "source": [
        "def mean(s,t,u):\n",
        "  if((s**2)+(t**2)==u**2):\n",
        "    return True\n",
        "  else:\n",
        "    return False\n",
        "s,t,u = list(map(int, input().split()))[:3]\n",
        "print(mean(s,t,u))"
      ],
      "metadata": {
        "colab": {
          "base_uri": "https://localhost:8080/"
        },
        "id": "qSiq-F_yrrdl",
        "outputId": "e3729855-1ded-4e8a-cacc-90c12d8e43f0"
      },
      "execution_count": 31,
      "outputs": [
        {
          "output_type": "stream",
          "name": "stdout",
          "text": [
            "3 4 5\n",
            "True\n"
          ]
        }
      ]
    }
  ],
  "metadata": {
    "colab": {
      "collapsed_sections": [],
      "name": "Welcome To Colaboratory",
      "toc_visible": true,
      "provenance": [],
      "include_colab_link": true
    },
    "kernelspec": {
      "display_name": "Python 3",
      "name": "python3"
    }
  },
  "nbformat": 4,
  "nbformat_minor": 0
}