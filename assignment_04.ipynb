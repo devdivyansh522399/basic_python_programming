{
  "cells": [
    {
      "cell_type": "markdown",
      "metadata": {
        "id": "view-in-github",
        "colab_type": "text"
      },
      "source": [
        "<a href=\"https://colab.research.google.com/github/devdivyansh522399/python_basic_programming/blob/main/assignment_04.ipynb\" target=\"_parent\"><img src=\"https://colab.research.google.com/assets/colab-badge.svg\" alt=\"Open In Colab\"/></a>"
      ]
    },
    {
      "cell_type": "markdown",
      "source": [
        "Question 1. Write a Python Program to Find the Factorial of a iber?\n"
      ],
      "metadata": {
        "id": "sUrG2f1ubfej"
      }
    },
    {
      "cell_type": "code",
      "source": [
        "n = int(input())\n",
        "fact =1\n",
        "for i in range(1,n+1):\n",
        "   fact = fact*i\n",
        "print(fact)"
      ],
      "metadata": {
        "colab": {
          "base_uri": "https://localhost:8080/"
        },
        "id": "ZoTy2_iEbh67",
        "outputId": "cc638f7d-c71e-4c2f-ee5e-c146fa184063"
      },
      "execution_count": 15,
      "outputs": [
        {
          "output_type": "stream",
          "name": "stdout",
          "text": [
            "5\n",
            "120\n"
          ]
        }
      ]
    },
    {
      "cell_type": "markdown",
      "source": [
        "Question 2. "
      ],
      "metadata": {
        "id": "ULnP3Ro4cclM"
      }
    },
    {
      "cell_type": "code",
      "source": [
        "n = int(input(\"Enter number : \"))\n",
        "for i in range(1,11):\n",
        "  print(\"{}*{} = {}\".format(n,i,n*i))\n"
      ],
      "metadata": {
        "colab": {
          "base_uri": "https://localhost:8080/"
        },
        "id": "6a2OnRhWcafJ",
        "outputId": "66cfbcb9-69f6-4500-e3a2-86858b0974dc"
      },
      "execution_count": 16,
      "outputs": [
        {
          "output_type": "stream",
          "name": "stdout",
          "text": [
            "Enter number : 3\n",
            "3*1 = 3\n",
            "3*2 = 6\n",
            "3*3 = 9\n",
            "3*4 = 12\n",
            "3*5 = 15\n",
            "3*6 = 18\n",
            "3*7 = 21\n",
            "3*8 = 24\n",
            "3*9 = 27\n",
            "3*10 = 30\n"
          ]
        }
      ]
    },
    {
      "cell_type": "markdown",
      "source": [
        "Question 3. Write a Python Program to Print the Fibonacci sequence?"
      ],
      "metadata": {
        "id": "fDevJ5Fnc9uS"
      }
    },
    {
      "cell_type": "code",
      "source": [
        "term = int(input(\"How many terms? \"))\n",
        "n1, n2 = 0, 1\n",
        "count = 0\n",
        "if term <= 0:\n",
        "   print(\"Please enter a positive integer\")\n",
        "elif term == 1:\n",
        "   print(\"Fibonacci sequence upto\",term,\":\")\n",
        "   print(n1)\n",
        "else:\n",
        "   print(\"Fibonacci sequence:\")\n",
        "   while count < term:\n",
        "       print(n1 , end=\" \")\n",
        "       nth = n1 + n2\n",
        "       n1 = n2\n",
        "       n2 = nth\n",
        "       count += 1"
      ],
      "metadata": {
        "colab": {
          "base_uri": "https://localhost:8080/"
        },
        "id": "SiOGpINmcytm",
        "outputId": "9b310a07-0412-4606-eadf-6c90e3eeee54"
      },
      "execution_count": 19,
      "outputs": [
        {
          "output_type": "stream",
          "name": "stdout",
          "text": [
            "How many terms? 6\n",
            "Fibonacci sequence:\n",
            "0 1 1 2 3 5 "
          ]
        }
      ]
    },
    {
      "cell_type": "markdown",
      "source": [
        "Question 4. Write a Python Program to Check Armstrong iber?"
      ],
      "metadata": {
        "id": "sjxIZ1IseS7n"
      }
    },
    {
      "cell_type": "code",
      "source": [
        "i = int(input())\n",
        "order = len(str(i))\n",
        "sum = 0\n",
        "temp = i\n",
        "while temp > 0:\n",
        "   digit = temp % 10\n",
        "   sum += digit ** order\n",
        "   temp //= 10\n",
        "if i == sum:\n",
        "   print(i,\"is an Armstrong number\")\n",
        "else:\n",
        "   print(i,\"is not an Armstrong number\")"
      ],
      "metadata": {
        "colab": {
          "base_uri": "https://localhost:8080/"
        },
        "id": "S5OGYXNkd3GA",
        "outputId": "fcfb9b9f-d20b-4a63-d752-02bba8f32965"
      },
      "execution_count": 24,
      "outputs": [
        {
          "output_type": "stream",
          "name": "stdout",
          "text": [
            "153\n",
            "153 is an Armstrong number\n"
          ]
        }
      ]
    },
    {
      "cell_type": "markdown",
      "source": [
        "Question 5. Write a Python Program to Find Armstrong iber in an Interval?"
      ],
      "metadata": {
        "id": "n3zsdDDEhdga"
      }
    },
    {
      "cell_type": "code",
      "source": [
        "L = int(input(\"Lower Bound : \"))\n",
        "U = int(input(\"Upper Bound : \"))\n",
        "for i in range(L,U+1):\n",
        "  order = len(str(i))\n",
        "  sum = 0\n",
        "  temp = i\n",
        "  while temp > 0:\n",
        "    digit = temp % 10\n",
        "    sum += digit ** order\n",
        "    temp //= 10\n",
        "  if i == sum:\n",
        "    print(i)"
      ],
      "metadata": {
        "colab": {
          "base_uri": "https://localhost:8080/"
        },
        "id": "Xn99efYrhLi_",
        "outputId": "05c08232-0512-4f29-d36e-804813eaae45"
      },
      "execution_count": 25,
      "outputs": [
        {
          "output_type": "stream",
          "name": "stdout",
          "text": [
            "Lower Bound : 1\n",
            "Upper Bound : 100\n",
            "1\n",
            "2\n",
            "3\n",
            "4\n",
            "5\n",
            "6\n",
            "7\n",
            "8\n",
            "9\n"
          ]
        }
      ]
    },
    {
      "cell_type": "markdown",
      "source": [
        "Question 6. Write a Python Program to Find the Sum of Natural Numbers?"
      ],
      "metadata": {
        "id": "8B9Q12hopuHB"
      }
    },
    {
      "cell_type": "code",
      "source": [
        "num = int(input(\"Enter a upper bound : \"))\n",
        "sum =0\n",
        "for i in range(num+1):\n",
        "  sum = sum+ i\n",
        "print(sum)"
      ],
      "metadata": {
        "colab": {
          "base_uri": "https://localhost:8080/"
        },
        "id": "w4oGRkLuhbUg",
        "outputId": "1dbf75dd-f266-4590-cb58-2f8e589183c3"
      },
      "execution_count": 26,
      "outputs": [
        {
          "output_type": "stream",
          "name": "stdout",
          "text": [
            "Enter a upper bound : 10\n",
            "55\n"
          ]
        }
      ]
    },
    {
      "cell_type": "code",
      "source": [
        ""
      ],
      "metadata": {
        "id": "45qHKM11qENQ"
      },
      "execution_count": null,
      "outputs": []
    }
  ],
  "metadata": {
    "colab": {
      "collapsed_sections": [],
      "name": "Welcome To Colaboratory",
      "provenance": [],
      "include_colab_link": true
    },
    "kernelspec": {
      "display_name": "Python 3",
      "name": "python3"
    }
  },
  "nbformat": 4,
  "nbformat_minor": 0
}