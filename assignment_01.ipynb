{
  "cells": [
    {
      "cell_type": "markdown",
      "metadata": {
        "id": "view-in-github",
        "colab_type": "text"
      },
      "source": [
        "<a href=\"https://colab.research.google.com/github/devdivyansh522399/python_basic_programming/blob/main/assignment_01.ipynb\" target=\"_parent\"><img src=\"https://colab.research.google.com/assets/colab-badge.svg\" alt=\"Open In Colab\"/></a>"
      ]
    },
    {
      "cell_type": "markdown",
      "source": [
        "Question 1: Write a Python program to print Hello Python ?"
      ],
      "metadata": {
        "id": "WkyxeyQ74x9r"
      }
    },
    {
      "cell_type": "code",
      "source": [
        "print(\"Hello python\")"
      ],
      "metadata": {
        "colab": {
          "base_uri": "https://localhost:8080/"
        },
        "id": "LmriGYAT4ws6",
        "outputId": "f7a5dca8-2a3a-4eb0-9bd1-9734aa20b681"
      },
      "execution_count": 2,
      "outputs": [
        {
          "output_type": "stream",
          "name": "stdout",
          "text": [
            "Hello python\n"
          ]
        }
      ]
    },
    {
      "cell_type": "markdown",
      "source": [
        "Question 2:Write a Python program to do arithmetical operations addition and division.?"
      ],
      "metadata": {
        "id": "UgfPkmhF5Dhx"
      }
    },
    {
      "cell_type": "code",
      "source": [
        "num1 = int(input())\n",
        "num2 = int(input())\n",
        "print(\"addition is {}\" .format(num1+ num2))\n",
        "print(\"Division is {}\" .format(num1/num2))"
      ],
      "metadata": {
        "colab": {
          "base_uri": "https://localhost:8080/"
        },
        "id": "4CbkWdNd5Ctt",
        "outputId": "123302a9-be64-4da8-b80e-fa0c6d38fd3b"
      },
      "execution_count": 3,
      "outputs": [
        {
          "output_type": "stream",
          "name": "stdout",
          "text": [
            "2 \n",
            "4\n",
            "addition is 6\n",
            "Division is 0.5\n"
          ]
        }
      ]
    },
    {
      "cell_type": "markdown",
      "source": [
        "Question 3:Write a Python program to find the area of a triangle?"
      ],
      "metadata": {
        "id": "wytYq74e5sRb"
      }
    },
    {
      "cell_type": "code",
      "source": [
        "num1 = int(input(\"Enter the base value : \"))\n",
        "num2 = int(input(\"Enter the height value : \"))\n",
        "print(\"area of triangle is {}\" .format((num1*num2)/2))"
      ],
      "metadata": {
        "colab": {
          "base_uri": "https://localhost:8080/"
        },
        "id": "j9jjC01Z5ByL",
        "outputId": "bdaa2baa-5dec-4e83-81c3-46cd4a9c1339"
      },
      "execution_count": 4,
      "outputs": [
        {
          "output_type": "stream",
          "name": "stdout",
          "text": [
            "Enter the base value : 5\n",
            "Enter the height value : 4\n",
            "area of triangle is 10.0\n"
          ]
        }
      ]
    },
    {
      "cell_type": "markdown",
      "source": [
        "Question 4: Write a Python program to swap two variables?"
      ],
      "metadata": {
        "id": "Ci9rdRHy6Vwn"
      }
    },
    {
      "cell_type": "code",
      "source": [
        "num1 = int(input(\"Enter the value 1 : \"))\n",
        "num2 = int(input(\"Enter the value 2: \"))\n",
        "temp = num1\n",
        "num1 = num2\n",
        "num2 = temp\n",
        "print(\"After swapping\")\n",
        "print(num1, num2)"
      ],
      "metadata": {
        "colab": {
          "base_uri": "https://localhost:8080/"
        },
        "id": "8c0k-6tA6RMn",
        "outputId": "d89dff15-9647-4966-e866-df1e7ef7dbe3"
      },
      "execution_count": 5,
      "outputs": [
        {
          "output_type": "stream",
          "name": "stdout",
          "text": [
            "Enter the value 1 : 4\n",
            "Enter the value 2: 5\n",
            "After swapping\n",
            "5 4\n"
          ]
        }
      ]
    },
    {
      "cell_type": "markdown",
      "source": [
        "Question 5: Write a Python program to generate a random number?"
      ],
      "metadata": {
        "id": "NFU8cXAN6zSs"
      }
    },
    {
      "cell_type": "code",
      "source": [
        "import random\n",
        "print(random.random())"
      ],
      "metadata": {
        "colab": {
          "base_uri": "https://localhost:8080/"
        },
        "id": "_Fo7kSn36tTO",
        "outputId": "3213d9c1-6743-43e5-aefb-26cd9b2e1af0"
      },
      "execution_count": 6,
      "outputs": [
        {
          "output_type": "stream",
          "name": "stdout",
          "text": [
            "0.14979406182368782\n"
          ]
        }
      ]
    },
    {
      "cell_type": "code",
      "source": [
        ""
      ],
      "metadata": {
        "id": "B9c34AoT7PEd"
      },
      "execution_count": null,
      "outputs": []
    }
  ],
  "metadata": {
    "colab": {
      "collapsed_sections": [],
      "name": "Welcome To Colaboratory",
      "provenance": [],
      "include_colab_link": true
    },
    "kernelspec": {
      "display_name": "Python 3",
      "name": "python3"
    }
  },
  "nbformat": 4,
  "nbformat_minor": 0
}