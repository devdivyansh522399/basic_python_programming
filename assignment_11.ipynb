{
  "cells": [
    {
      "cell_type": "markdown",
      "metadata": {
        "id": "view-in-github",
        "colab_type": "text"
      },
      "source": [
        "<a href=\"https://colab.research.google.com/github/devdivyansh522399/python_basic_programming/blob/main/assignment_11.ipynb\" target=\"_parent\"><img src=\"https://colab.research.google.com/assets/colab-badge.svg\" alt=\"Open In Colab\"/></a>"
      ]
    },
    {
      "cell_type": "markdown",
      "source": [
        "Question 1: Write a Python program to find words which are greater than given length k?"
      ],
      "metadata": {
        "id": "cNkkahsGtvtR"
      }
    },
    {
      "cell_type": "code",
      "source": [
        "n = int(input(\"Enter the number of words : \"))\n",
        "lst = list(map(str, input().split()))[:n]\n",
        "k = int(input(\"Enter the size k: \"))\n",
        "print(\"The words have length greater than\",k)\n",
        "for i in lst:\n",
        "  if(len(i)>k):\n",
        "    print(i, end=\" \")"
      ],
      "metadata": {
        "id": "qfdnh0yLtv4-",
        "outputId": "22372c7a-8e37-4d34-97e6-ae9de46f6b47",
        "colab": {
          "base_uri": "https://localhost:8080/"
        }
      },
      "execution_count": 31,
      "outputs": [
        {
          "output_type": "stream",
          "name": "stdout",
          "text": [
            "Enter the number of words : 5\n",
            "harsh dev i am devil\n",
            "Enter the size k: 3\n",
            "The words have length greater than 3\n",
            "harsh devil "
          ]
        }
      ]
    },
    {
      "cell_type": "markdown",
      "source": [
        "Question 2: Write a Python program for removing i-th character from a string?"
      ],
      "metadata": {
        "id": "kH6dNzobwhnK"
      }
    },
    {
      "cell_type": "code",
      "source": [
        "string = input(\"Enter the string : \")\n",
        "print(string)\n",
        "string_1 = ''\n",
        "alpha = input(\"Enter the character : \")\n",
        "for i in range(len(string)):\n",
        "  if(string[i]!=alpha):\n",
        "    string_1 += string[i]\n",
        "print(\"Original String is : \",string)\n",
        "print(\"After removal String is : \",string_1)\n",
        "\n"
      ],
      "metadata": {
        "id": "gLXnOI51uM4R",
        "outputId": "83a05c49-d1c9-47cb-96a5-c9d135ebc2cb",
        "colab": {
          "base_uri": "https://localhost:8080/"
        }
      },
      "execution_count": 32,
      "outputs": [
        {
          "output_type": "stream",
          "name": "stdout",
          "text": [
            "Enter the string : divyansh\n",
            "divyansh\n",
            "Enter the character : v\n",
            "Original String is :  divyansh\n",
            "After removal String is :  diyansh\n"
          ]
        }
      ]
    },
    {
      "cell_type": "markdown",
      "source": [
        "Question 3: Write a Python program to split and join a string?"
      ],
      "metadata": {
        "id": "a1cSRcYbxPV4"
      }
    },
    {
      "cell_type": "code",
      "source": [
        "string = input(\"Enter the string : \")\n",
        "print(string.split())\n",
        "print(\" \".join(string))"
      ],
      "metadata": {
        "id": "fifd68MuwVhA",
        "outputId": "c2da0085-d7ec-4146-e458-c19c75c9c16d",
        "colab": {
          "base_uri": "https://localhost:8080/"
        }
      },
      "execution_count": 35,
      "outputs": [
        {
          "output_type": "stream",
          "name": "stdout",
          "text": [
            "Enter the string : Hii my name is divyansh dev\n",
            "['Hii', 'my', 'name', 'is', 'divyansh', 'dev']\n",
            "H i i   m y   n a m e   i s   d i v y a n s h   d e v\n"
          ]
        }
      ]
    },
    {
      "cell_type": "markdown",
      "source": [
        "Question 4: Write a Python to check if a given string is binary string or not?"
      ],
      "metadata": {
        "id": "atiD-1FaxRxm"
      }
    },
    {
      "cell_type": "code",
      "source": [
        ""
      ],
      "metadata": {
        "id": "Hi3BU15Rwzyg"
      },
      "execution_count": null,
      "outputs": []
    }
  ],
  "metadata": {
    "colab": {
      "collapsed_sections": [],
      "name": "Welcome To Colaboratory",
      "toc_visible": true,
      "provenance": [],
      "include_colab_link": true
    },
    "kernelspec": {
      "display_name": "Python 3",
      "name": "python3"
    }
  },
  "nbformat": 4,
  "nbformat_minor": 0
}