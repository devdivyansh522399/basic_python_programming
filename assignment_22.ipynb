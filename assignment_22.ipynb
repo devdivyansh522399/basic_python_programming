{
  "cells": [
    {
      "cell_type": "markdown",
      "metadata": {
        "id": "view-in-github",
        "colab_type": "text"
      },
      "source": [
        "<a href=\"https://colab.research.google.com/github/devdivyansh522399/basic_python_programming/blob/main/assignment_22.ipynb\" target=\"_parent\"><img src=\"https://colab.research.google.com/assets/colab-badge.svg\" alt=\"Open In Colab\"/></a>"
      ]
    },
    {
      "cell_type": "markdown",
      "source": [
        "Question 1: Create a function that takes three parameters where:\n",
        " x is the start of the range (inclusive).\n",
        " y is the end of the range (inclusive).\n",
        " n is the divisor to be checked against.\n",
        "Return an ordered list with numbers in the range that are divisible by the third parameter n.\n",
        "Return an empty list if there are no numbers that are divisible by n."
      ],
      "metadata": {
        "id": "XpjvgU9Gneu3"
      }
    },
    {
      "cell_type": "code",
      "source": [
        "def funct(m,n,p):\n",
        "  l = []\n",
        "  for i in range(m,n+1):\n",
        "    if(i%p==0):\n",
        "      l.append(i)\n",
        "  return l\n",
        "  m,n,p = list(map(int,input().split()))[:3]\n",
        "  print(funct(m,n,p))\n"
      ],
      "metadata": {
        "id": "s7YyrErPniuh"
      },
      "execution_count": 6,
      "outputs": []
    },
    {
      "cell_type": "markdown",
      "source": [
        "Question 2: Create a function that takes in two lists and returns True if the second list follows the first list\n",
        "by one element, and False otherwise. In other words, determine if the second list is the first\n",
        "list shifted to the right by 1."
      ],
      "metadata": {
        "id": "qYUQdCippWGW"
      }
    },
    {
      "cell_type": "code",
      "source": [
        "def simon_says(l,p):\n",
        "  for i in l:\n",
        "    if(i in p):\n",
        "      return True\n",
        "  return False\n",
        "n = int(input())\n",
        "l = list(map(int, input().split()))[:n]\n",
        "p = list(map(int, input().split()))[:n]\n",
        "print(simon_says(l,p))\n"
      ],
      "metadata": {
        "id": "KelzGiI4nxZw",
        "outputId": "95c5b289-9f41-4a1e-d6b7-a2d0d6d2a967",
        "colab": {
          "base_uri": "https://localhost:8080/"
        }
      },
      "execution_count": 8,
      "outputs": [
        {
          "output_type": "stream",
          "name": "stdout",
          "text": [
            "4\n",
            "1 2 3 4\n",
            "2 3 4 5\n",
            "True\n"
          ]
        }
      ]
    },
    {
      "cell_type": "markdown",
      "source": [
        "Question 3: A group of friends have decided to start a secret society. The name will be the first letter of\n",
        "each of their names, sorted in alphabetical order.\n",
        "Create a function that takes in a list of names and returns the name of the secret society."
      ],
      "metadata": {
        "id": "soSfXUREqPt3"
      }
    },
    {
      "cell_type": "code",
      "source": [
        "n = int(input(\"Enter the number of member : \"))\n",
        "name_list = list(map(str, input().split()))[:n]\n",
        "l = []\n",
        "for i in name_list:\n",
        "  l.append(i[0])\n",
        "l.sort()\n",
        "name = ''\n",
        "for i in l:\n",
        "  name+=i\n",
        "print(name)\n"
      ],
      "metadata": {
        "id": "LDf9rtDbqDLP",
        "outputId": "038fa93e-4a01-43e4-d4b0-172502db76aa",
        "colab": {
          "base_uri": "https://localhost:8080/"
        }
      },
      "execution_count": 10,
      "outputs": [
        {
          "output_type": "stream",
          "name": "stdout",
          "text": [
            "Enter the number of member : 5\n",
            "harsh dhruv pandey paras dev\n",
            "ddhpp\n"
          ]
        }
      ]
    },
    {
      "cell_type": "markdown",
      "source": [
        "Question 4: An isogram is a word that has no duplicate letters. Create a function that takes a string and\n",
        "returns either True or False depending on whether or not it&#39;s an &quot;isogram&quot;."
      ],
      "metadata": {
        "id": "oa2T8m7fsDIU"
      }
    },
    {
      "cell_type": "code",
      "source": [
        "def isogram(s):\n",
        "  l = []\n",
        "  for i in range(len(s)):\n",
        "    if s[i] not in l:\n",
        "      l.append(s[i])\n",
        "    else:\n",
        "      return False\n",
        "  return True\n",
        "s = input()\n",
        "print(isogram(s))"
      ],
      "metadata": {
        "id": "qSiq-F_yrrdl",
        "outputId": "b80ab930-2948-4222-cce7-116d28386696",
        "colab": {
          "base_uri": "https://localhost:8080/"
        }
      },
      "execution_count": 11,
      "outputs": [
        {
          "output_type": "stream",
          "name": "stdout",
          "text": [
            "divyash\n",
            "True\n"
          ]
        }
      ]
    },
    {
      "cell_type": "markdown",
      "source": [
        "Question 5: Create a function that takes a string and returns True or False, depending on whether the\n",
        "characters are in order or not."
      ],
      "metadata": {
        "id": "0bgb-FHjtWON"
      }
    },
    {
      "cell_type": "code",
      "source": [
        "def issorted(s):\n",
        "  l = []\n",
        "  for i in range(len(s)-1):\n",
        "    if(s[i]>s[i+1]):\n",
        "      return False\n",
        "  return True\n",
        "s = input()\n",
        "print(issorted(s))"
      ],
      "metadata": {
        "id": "_XdiR38vtLgb",
        "outputId": "7a32693d-71f6-4784-b31b-22c6729a5ebe",
        "colab": {
          "base_uri": "https://localhost:8080/"
        }
      },
      "execution_count": 14,
      "outputs": [
        {
          "output_type": "stream",
          "name": "stdout",
          "text": [
            "abd\n",
            "True\n"
          ]
        }
      ]
    },
    {
      "cell_type": "code",
      "source": [
        "\n"
      ],
      "metadata": {
        "id": "Uvf_VCe3tT33"
      },
      "execution_count": null,
      "outputs": []
    }
  ],
  "metadata": {
    "colab": {
      "collapsed_sections": [],
      "name": "Welcome To Colaboratory",
      "toc_visible": true,
      "provenance": [],
      "include_colab_link": true
    },
    "kernelspec": {
      "display_name": "Python 3",
      "name": "python3"
    }
  },
  "nbformat": 4,
  "nbformat_minor": 0
}