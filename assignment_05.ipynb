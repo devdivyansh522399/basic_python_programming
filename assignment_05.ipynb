{
  "cells": [
    {
      "cell_type": "markdown",
      "metadata": {
        "id": "view-in-github",
        "colab_type": "text"
      },
      "source": [
        "<a href=\"https://colab.research.google.com/github/devdivyansh522399/python_basic_programming/blob/main/Assignment_05.ipynb\" target=\"_parent\"><img src=\"https://colab.research.google.com/assets/colab-badge.svg\" alt=\"Open In Colab\"/></a>"
      ]
    },
    {
      "cell_type": "markdown",
      "source": [
        "Question 1. Write a Python Program to Find LCM?\n"
      ],
      "metadata": {
        "id": "sUrG2f1ubfej"
      }
    },
    {
      "cell_type": "code",
      "source": [
        "num1 = int(input(\"Enter num1 : \"))\n",
        "num2 = int(input(\"Enter num2 : \"))\n",
        "if num1 > num2:\n",
        "    greater = num1\n",
        "else:\n",
        "    greater = num2\n",
        "\n",
        "while(True):\n",
        "    if((greater % num1 == 0) and (greater % num2 == 0)):\n",
        "        lcm = greater\n",
        "        break\n",
        "    greater += 1\n",
        "print(\"LCM of {}, {} is {}\".format(num1, num2, greater))\n"
      ],
      "metadata": {
        "colab": {
          "base_uri": "https://localhost:8080/"
        },
        "id": "ZoTy2_iEbh67",
        "outputId": "40cbbb55-4dc6-4de1-d63f-07adf4085a39"
      },
      "execution_count": 30,
      "outputs": [
        {
          "output_type": "stream",
          "name": "stdout",
          "text": [
            "Enter num1 : 10\n",
            "Enter num2 : 9\n",
            "LCM of 10, 9 is 90\n"
          ]
        }
      ]
    },
    {
      "cell_type": "markdown",
      "source": [
        "Question 2. Write a Python Program to Find HCF?"
      ],
      "metadata": {
        "id": "ULnP3Ro4cclM"
      }
    },
    {
      "cell_type": "code",
      "source": [
        "num1 = int(input(\"Enter num1 : \"))\n",
        "num2 = int(input(\"Enter num2 : \"))\n",
        "if num1 > num2:\n",
        "    smaller = num2\n",
        "else:\n",
        "    smaller = num1\n",
        "\n",
        "while(True):\n",
        "    if((num1 % smaller == 0) and (num2 % smaller == 0)):\n",
        "        hcf = smaller\n",
        "        break\n",
        "    smaller -= 1\n",
        "print(\"HCF of {}, {} is {}\".format(num1, num2, smaller))"
      ],
      "metadata": {
        "colab": {
          "base_uri": "https://localhost:8080/"
        },
        "id": "6a2OnRhWcafJ",
        "outputId": "d19b5dcf-1f3c-4566-a50a-85ae0f6c6671"
      },
      "execution_count": 33,
      "outputs": [
        {
          "output_type": "stream",
          "name": "stdout",
          "text": [
            "Enter num1 : 10\n",
            "Enter num2 : 9\n",
            "HCF of 10, 9 is 1\n"
          ]
        }
      ]
    },
    {
      "cell_type": "markdown",
      "source": [
        "Question 3. Write a Python Program to Convert Decimal to Binary, Octal and Hexadecimal?\n"
      ],
      "metadata": {
        "id": "fDevJ5Fnc9uS"
      }
    },
    {
      "cell_type": "code",
      "source": [
        "num = int(input(\"Enter the number : \"))\n",
        "print(\"Binary : {}\".format(bin(num)))\n",
        "print(\"Octal : {}\".format(oct(num)))\n",
        "print(\"Hexa : {}\".format(hex(num)))"
      ],
      "metadata": {
        "colab": {
          "base_uri": "https://localhost:8080/"
        },
        "id": "SiOGpINmcytm",
        "outputId": "7843f9e5-eb94-4ae8-9c8b-1ff6c6424991"
      },
      "execution_count": 37,
      "outputs": [
        {
          "output_type": "stream",
          "name": "stdout",
          "text": [
            "Enter the number : 9\n",
            "Binary : 0b1001\n",
            "Octal : 0o11\n",
            "Hexa : 0x9\n"
          ]
        }
      ]
    },
    {
      "cell_type": "markdown",
      "source": [
        "Question 4. Write a Python Program To Find ASCII value of a character?"
      ],
      "metadata": {
        "id": "sjxIZ1IseS7n"
      }
    },
    {
      "cell_type": "code",
      "source": [
        "num = input(\"enter the character : \")\n",
        "print(\"ASCII value of \" + num + \" is \" + str(ord(num)))"
      ],
      "metadata": {
        "colab": {
          "base_uri": "https://localhost:8080/"
        },
        "id": "S5OGYXNkd3GA",
        "outputId": "59157192-8a10-4944-84ce-cc9f89670354"
      },
      "execution_count": 41,
      "outputs": [
        {
          "output_type": "stream",
          "name": "stdout",
          "text": [
            "enter the character : )\n",
            "ASCII value of ) is 41\n"
          ]
        }
      ]
    },
    {
      "cell_type": "markdown",
      "source": [
        "Question 5. Write a Python Program to Make a Simple Calculator with 4 basic mathematical operations?"
      ],
      "metadata": {
        "id": "n3zsdDDEhdga"
      }
    },
    {
      "cell_type": "code",
      "source": [
        "print(\"Welcome to python calculator\")\n",
        "print(\"Enter 1 for addition\")\n",
        "print(\"Enter 2 for substraction\")\n",
        "print(\"Enter 3 for multiplication\")\n",
        "print(\"Enter 4 for division\")\n",
        "def add(x, y):\n",
        "    return x + y\n",
        "def subtract(x, y):\n",
        "    return x - y\n",
        "def multiply(x, y):\n",
        "    return x * y\n",
        "def divide(x, y):\n",
        "    return x / y\n",
        "\n",
        "while True:\n",
        "    choice = input(\"Enter choice(1/2/3/4): \")\n",
        "    if choice in ('1', '2', '3', '4'):\n",
        "        num1 = float(input(\"Enter first number: \"))\n",
        "        num2 = float(input(\"Enter second number: \"))\n",
        "        if choice == '1':\n",
        "            print(num1, \"+\", num2, \"=\", add(num1, num2))\n",
        "\n",
        "        elif choice == '2':\n",
        "            print(num1, \"-\", num2, \"=\", subtract(num1, num2))\n",
        "\n",
        "        elif choice == '3':\n",
        "            print(num1, \"*\", num2, \"=\", multiply(num1, num2))\n",
        "\n",
        "        elif choice == '4':\n",
        "            print(num1, \"/\", num2, \"=\", divide(num1, num2))\n",
        "\n",
        "        next_calculation = input(\"Let's do next calculation? (yes/no): \")\n",
        "        if next_calculation == \"no\":\n",
        "          break\n",
        "    \n",
        "    else:\n",
        "        print(\"Invalid Input\")"
      ],
      "metadata": {
        "colab": {
          "base_uri": "https://localhost:8080/"
        },
        "id": "Xn99efYrhLi_",
        "outputId": "8c7c24c4-8f34-473d-c72b-50e3328f993e"
      },
      "execution_count": 42,
      "outputs": [
        {
          "name": "stdout",
          "output_type": "stream",
          "text": [
            "Welcome to python calculator\n",
            "Enter 1 for addition\n",
            "Enter 2 for substraction\n",
            "Enter 3 for multiplication\n",
            "Enter 4 for division\n",
            "Enter choice(1/2/3/4): 1\n",
            "Enter first number: 87\n",
            "Enter second number: 98\n",
            "87.0 + 98.0 = 185.0\n",
            "Let's do next calculation? (yes/no): no\n"
          ]
        }
      ]
    }
  ],
  "metadata": {
    "colab": {
      "collapsed_sections": [],
      "name": "Welcome To Colaboratory",
      "provenance": [],
      "include_colab_link": true
    },
    "kernelspec": {
      "display_name": "Python 3",
      "name": "python3"
    }
  },
  "nbformat": 4,
  "nbformat_minor": 0
}
