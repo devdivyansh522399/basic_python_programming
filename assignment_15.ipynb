{
  "cells": [
    {
      "cell_type": "markdown",
      "metadata": {
        "id": "view-in-github",
        "colab_type": "text"
      },
      "source": [
        "<a href=\"https://colab.research.google.com/github/devdivyansh522399/basic_python_programming/blob/main/assignment_15.ipynb\" target=\"_parent\"><img src=\"https://colab.research.google.com/assets/colab-badge.svg\" alt=\"Open In Colab\"/></a>"
      ]
    },
    {
      "cell_type": "markdown",
      "source": [
        "Question 1: Please write a program using generator to print the numbers which can be divisible by 5 and\n",
        "7 between 0 and n in comma separated form while n is input by console."
      ],
      "metadata": {
        "id": "Yt-Ic3CDnyw6"
      }
    },
    {
      "cell_type": "code",
      "source": [
        "class generator:\n",
        "  def __init__(self, number):\n",
        "    self.number = number\n",
        "  \n",
        "  \n",
        "  def check(self, lst):\n",
        "    n = self.number\n",
        "    for i in range(n+1):\n",
        "      if(i%35==0):\n",
        "        lst.append(i)\n",
        "    for i in lst:\n",
        "      if(i!=lst[-1]):\n",
        "        print(i, end=\",\")\n",
        "      else:\n",
        "        print(i)\n",
        "\n",
        "n = int(input(\"Enter the range : \"))\n",
        "num = generator(n)\n",
        "lst = []\n",
        "num.check(lst)\n",
        "        "
      ],
      "metadata": {
        "id": "Nn3QtV6Jn4sj",
        "outputId": "19240eee-071d-43f7-ae8c-3de1baeebcf2",
        "colab": {
          "base_uri": "https://localhost:8080/"
        }
      },
      "execution_count": null,
      "outputs": [
        {
          "output_type": "stream",
          "name": "stdout",
          "text": [
            "Enter the range : 1000\n",
            "0,35,70,105,140,175,210,245,280,315,350,385,420,455,490,525,560,595,630,665,700,735,770,805,840,875,910,945,980\n"
          ]
        }
      ]
    },
    {
      "cell_type": "markdown",
      "source": [
        "Question 2:Please write a program using generator to print the even numbers between 0 and n in comma\n",
        "separated form while n is input by console."
      ],
      "metadata": {
        "id": "jRomsNSKsTfu"
      }
    },
    {
      "cell_type": "code",
      "source": [
        "class generator:\n",
        "  def __init__(self, number):\n",
        "    self.number = number\n",
        "  def check(self, lst):\n",
        "    n = self.number\n",
        "    for i in range(n+1):\n",
        "      if(i%2==0):\n",
        "        lst.append(i)\n",
        "    for i in lst:\n",
        "      if(i!=lst[-1]):\n",
        "        print(i, end=\",\")\n",
        "      else:\n",
        "        print(i)\n",
        "\n",
        "n = int(input(\"Enter the range : \"))\n",
        "num = generator(n)\n",
        "lst = []\n",
        "num.check(lst)\n",
        "        "
      ],
      "metadata": {
        "id": "ZHaAkL2HsTtJ",
        "outputId": "2b1c367c-5e05-42cb-9fbf-923401d90136",
        "colab": {
          "base_uri": "https://localhost:8080/"
        }
      },
      "execution_count": null,
      "outputs": [
        {
          "output_type": "stream",
          "name": "stdout",
          "text": [
            "Enter the range : 100\n",
            "0,2,4,6,8,10,12,14,16,18,20,22,24,26,28,30,32,34,36,38,40,42,44,46,48,50,52,54,56,58,60,62,64,66,68,70,72,74,76,78,80,82,84,86,88,90,92,94,96,98,100\n"
          ]
        }
      ]
    },
    {
      "cell_type": "markdown",
      "source": [
        "Question 3: The Fibonacci Sequence is computed based on the following formula:"
      ],
      "metadata": {
        "id": "sftlcOvYv9bt"
      }
    },
    {
      "cell_type": "code",
      "source": [
        "n =int(input(\"Enter range : \"))\n",
        "fib = [0,1]\n",
        "[fib.append(fib[-2]+fib[-1]) for n in range(n)]\n",
        "print(fib[:-2])"
      ],
      "metadata": {
        "id": "0xTepzSCtWjf",
        "outputId": "e178e7e9-ab24-4538-b643-05c8f2f7d072",
        "colab": {
          "base_uri": "https://localhost:8080/"
        }
      },
      "execution_count": null,
      "outputs": [
        {
          "output_type": "stream",
          "name": "stdout",
          "text": [
            "Enter range : 3\n",
            "[0, 1, 1]\n"
          ]
        }
      ]
    },
    {
      "cell_type": "markdown",
      "source": [
        "Question 4: Assuming that we have some email addresses in the &quot;username@companyname.com&quot; format,\n",
        "please write program to print the user name of a given email address. Both user names and\n",
        "company names are composed of letters only."
      ],
      "metadata": {
        "id": "Zt2-SMJarzAt"
      }
    },
    {
      "cell_type": "code",
      "source": [
        "class email:\n",
        "  def __init__(self, mail):\n",
        "    self.mail = mail\n",
        "  \n",
        "  def name(self):\n",
        "    self.s = ''\n",
        "    for i in range(len(self.mail)-1):\n",
        "      if self.mail[i]=='@':\n",
        "        break\n",
        "      else:\n",
        "        self.s+=self.mail[i]\n",
        "    print(self.s)\n",
        "my_mail = email('myname@gmail.com')\n",
        "my_mail.name()\n"
      ],
      "metadata": {
        "id": "Ns_zDM49y5-T",
        "outputId": "045a3a64-8baa-4069-9a18-63871988224a",
        "colab": {
          "base_uri": "https://localhost:8080/"
        }
      },
      "execution_count": 6,
      "outputs": [
        {
          "output_type": "stream",
          "name": "stdout",
          "text": [
            "myname\n"
          ]
        }
      ]
    },
    {
      "cell_type": "markdown",
      "source": [
        "Question 5: Define a class named Shape and its subclass Square. The Square class has an init function\n",
        "which takes a length as argument. Both classes have a area function which can print the area\n",
        "of the shape where Shape&#39;s area is 0 by default."
      ],
      "metadata": {
        "id": "25nGpdVSuj9I"
      }
    },
    {
      "cell_type": "code",
      "source": [
        "class Shape:\n",
        "    area = 0\n",
        "    def __init__(self):\n",
        "      pass\n",
        "class Square(Shape):\n",
        "\n",
        "    def __init__(self, length):\n",
        "        self.length = length\n",
        "\n",
        "    def area(self):\n",
        "        a = (self.length * self.length)\n",
        "        print('The area of a square with a side length of %f is %f' % (self.length, a))\n",
        "s = Square(2)\n",
        "s.area()"
      ],
      "metadata": {
        "id": "BWZX-HwMq8Yu",
        "outputId": "7214b356-bcbf-44c7-c2fa-b22de93b1674",
        "colab": {
          "base_uri": "https://localhost:8080/"
        }
      },
      "execution_count": 7,
      "outputs": [
        {
          "output_type": "stream",
          "name": "stdout",
          "text": [
            "The area of a square with a side length of 2.000000 is 4.000000\n"
          ]
        }
      ]
    },
    {
      "cell_type": "code",
      "source": [
        ""
      ],
      "metadata": {
        "id": "10lsqCR6vckc"
      },
      "execution_count": null,
      "outputs": []
    }
  ],
  "metadata": {
    "colab": {
      "collapsed_sections": [],
      "name": "Welcome To Colaboratory",
      "toc_visible": true,
      "provenance": [],
      "include_colab_link": true
    },
    "kernelspec": {
      "display_name": "Python 3",
      "name": "python3"
    }
  },
  "nbformat": 4,
  "nbformat_minor": 0
}