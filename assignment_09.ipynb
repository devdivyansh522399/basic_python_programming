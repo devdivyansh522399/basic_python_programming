{
  "cells": [
    {
      "cell_type": "markdown",
      "metadata": {
        "id": "view-in-github",
        "colab_type": "text"
      },
      "source": [
        "<a href=\"https://colab.research.google.com/github/devdivyansh522399/python_basic_programming/blob/main/assignment_09.ipynb\" target=\"_parent\"><img src=\"https://colab.research.google.com/assets/colab-badge.svg\" alt=\"Open In Colab\"/></a>"
      ]
    },
    {
      "cell_type": "markdown",
      "source": [
        "Question 1: Write a Python program to check if the given number is a Disarium Number?"
      ],
      "metadata": {
        "id": "vvA6xqz7-cZP"
      }
    },
    {
      "cell_type": "code",
      "source": [
        "n = int(input(\"Enter the number : \"))\n",
        "size = len(str(n))\n",
        "m = n\n",
        "sum1 =0\n",
        "while(m!=0):\n",
        "  rem = m%10\n",
        "  sum1 = sum1 + rem**size\n",
        "  size-=1\n",
        "  m = m//10\n",
        "if(sum1==n):\n",
        "  print(\"YES\")\n",
        "else:\n",
        "  print(\"NO\")"
      ],
      "metadata": {
        "colab": {
          "base_uri": "https://localhost:8080/"
        },
        "id": "SmV0ijPt-7Qh",
        "outputId": "43fc1b6c-629e-4a4f-bdb6-357b47fb9dc0"
      },
      "execution_count": null,
      "outputs": [
        {
          "output_type": "stream",
          "name": "stdout",
          "text": [
            "Enter the number : 4\n",
            "YES\n"
          ]
        }
      ]
    },
    {
      "cell_type": "markdown",
      "source": [
        "Question 2: Write a Python program to print all disarium numbers between 1 to 100?"
      ],
      "metadata": {
        "id": "2zxNK6pi_knT"
      }
    },
    {
      "cell_type": "code",
      "source": [
        "for n in range(1,101):\n",
        "    size = len(str(n))\n",
        "    m = n\n",
        "    sum1 =0\n",
        "    while(m!=0):\n",
        "      rem = m%10\n",
        "      sum1 = sum1 + rem**size\n",
        "      size-=1\n",
        "      m = m//10\n",
        "    if(sum1==n):\n",
        "      print(n , end = \" \")"
      ],
      "metadata": {
        "colab": {
          "base_uri": "https://localhost:8080/"
        },
        "id": "pbrr_ow9-9w6",
        "outputId": "9a4c6ec4-97f3-4958-81b0-4e729e3a4fd1"
      },
      "execution_count": null,
      "outputs": [
        {
          "output_type": "stream",
          "name": "stdout",
          "text": [
            "1 2 3 4 5 6 7 8 9 89 "
          ]
        }
      ]
    },
    {
      "cell_type": "markdown",
      "source": [
        "Question 3: Write a Python program to check if the given number is Happy Number?"
      ],
      "metadata": {
        "id": "c-ixC5hu_C0B"
      }
    },
    {
      "cell_type": "code",
      "source": [
        "def numSqaure(n):\n",
        "    sum1 = 0\n",
        "    while(n):\n",
        "        sum1 = (n%10)**2\n",
        "        n = n//10\n",
        "    return sum1\n",
        "def isHappy(n):\n",
        "    if(numSqaure(n)==1):\n",
        "        return True\n",
        "    else:\n",
        "        return False\n",
        "n = int(input(\"Enter the number : \"))\n",
        "if(isHappy(n)):\n",
        "    print(\"YES\")\n",
        "else:\n",
        "    print(\"NO\")"
      ],
      "metadata": {
        "colab": {
          "base_uri": "https://localhost:8080/"
        },
        "id": "erJ5NuF-_Dcr",
        "outputId": "a8c437f8-ab48-4cce-f25a-7a3f16529c82"
      },
      "execution_count": null,
      "outputs": [
        {
          "output_type": "stream",
          "name": "stdout",
          "text": [
            "Enter the number : 4\n",
            "NO\n"
          ]
        }
      ]
    },
    {
      "cell_type": "markdown",
      "source": [
        "Question 4: Write a Python program to print all happy numbers between 1 and 100?"
      ],
      "metadata": {
        "id": "IO3aGT9J_or9"
      }
    },
    {
      "cell_type": "code",
      "source": [
        "def numSqaure(n):\n",
        "    sum1 = 0\n",
        "    while(n):\n",
        "        sum1 = (n%10)**2\n",
        "        n = n//10\n",
        "    return sum1\n",
        "def isHappy(n):\n",
        "    if(numSqaure(n)==1):\n",
        "        return True\n",
        "    else:\n",
        "        return False\n",
        "for i in range(1,101):\n",
        "    if(isHappy(i)):\n",
        "        print(i, end = \" \")"
      ],
      "metadata": {
        "colab": {
          "base_uri": "https://localhost:8080/"
        },
        "id": "e7-lrmp__RrS",
        "outputId": "ebb29064-e0b5-4df2-daac-53df48714579"
      },
      "execution_count": null,
      "outputs": [
        {
          "output_type": "stream",
          "name": "stdout",
          "text": [
            "1 10 11 12 13 14 15 16 17 18 19 100 "
          ]
        }
      ]
    },
    {
      "cell_type": "markdown",
      "source": [
        "Question 5: Write a Python program to determine whether the given number is a Harshad Number?"
      ],
      "metadata": {
        "id": "vLYqvqaHASZf"
      }
    },
    {
      "cell_type": "code",
      "source": [
        "num = int(input(\"Enter the number : \"))    \n",
        "rem = sum1 = 0    \n",
        "k = num\n",
        "while(num > 0):    \n",
        "    rem = num%10  \n",
        "    sum1 = sum1 + rem  \n",
        "    num = num//10  \n",
        "if(n%sum1 == 0):    \n",
        "    print(str(k) + \" is a harshad number\")\n",
        "else:    \n",
        "    print(str(k) + \" is not a harshad number\")   "
      ],
      "metadata": {
        "colab": {
          "base_uri": "https://localhost:8080/"
        },
        "id": "500bM1fJ_i0k",
        "outputId": "29ef62d3-07cd-4b8b-ab1a-0e359e3622e2"
      },
      "execution_count": null,
      "outputs": [
        {
          "output_type": "stream",
          "name": "stdout",
          "text": [
            "Enter the number : 855\n",
            "855 is not a harshad number\n"
          ]
        }
      ]
    },
    {
      "cell_type": "markdown",
      "source": [
        "Question 6. Write a Python program to print all pronic numbers between 1 and 100?"
      ],
      "metadata": {
        "id": "-li3RxkmvGFr"
      }
    },
    {
      "cell_type": "code",
      "source": [
        "def isPronicNumber(num):  \n",
        "    flag = False;  \n",
        "    for j in range(1, (num+1)//2):  \n",
        "        if((j*(j+1)) == num):  \n",
        "            flag = True;  \n",
        "            break;  \n",
        "    return flag;  \n",
        "print(\"Pronic numbers between 1 and 100: \");  \n",
        "for i in range(1, 101):  \n",
        "    if(isPronicNumber(i)):  \n",
        "        print(i),  \n",
        "        print(\" \"),  "
      ],
      "metadata": {
        "id": "ofN4jM6FBbJE",
        "colab": {
          "base_uri": "https://localhost:8080/"
        },
        "outputId": "df29f5bd-2dc2-4db7-9b71-820638b36a66"
      },
      "execution_count": 3,
      "outputs": [
        {
          "output_type": "stream",
          "name": "stdout",
          "text": [
            "Pronic numbers between 1 and 100: \n",
            "6\n",
            " \n",
            "12\n",
            " \n",
            "20\n",
            " \n",
            "30\n",
            " \n",
            "42\n",
            " \n",
            "56\n",
            " \n",
            "72\n",
            " \n",
            "90\n",
            " \n"
          ]
        }
      ]
    },
    {
      "cell_type": "code",
      "source": [
        ""
      ],
      "metadata": {
        "id": "CJmf5k9bvfHY"
      },
      "execution_count": null,
      "outputs": []
    }
  ],
  "metadata": {
    "colab": {
      "collapsed_sections": [],
      "name": "Welcome To Colaboratory",
      "toc_visible": true,
      "provenance": [],
      "include_colab_link": true
    },
    "kernelspec": {
      "display_name": "Python 3",
      "name": "python3"
    }
  },
  "nbformat": 4,
  "nbformat_minor": 0
}