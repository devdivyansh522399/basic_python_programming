{
  "cells": [
    {
      "cell_type": "markdown",
      "metadata": {
        "id": "view-in-github",
        "colab_type": "text"
      },
      "source": [
        "<a href=\"https://colab.research.google.com/github/devdivyansh522399/python_basic_programming/blob/main/Copy_of_Welcome_To_Colaboratory.ipynb\" target=\"_parent\"><img src=\"https://colab.research.google.com/assets/colab-badge.svg\" alt=\"Open In Colab\"/></a>"
      ]
    },
    {
      "cell_type": "markdown",
      "source": [
        "Question 1:Write a Python program to convert kilometers to miles?"
      ],
      "metadata": {
        "id": "9s8cOniBUUog"
      }
    },
    {
      "cell_type": "code",
      "source": [
        "n = int(input(\"Enter the KM : \"))\n",
        "print(\"After conversion : {} miles\".format(n/1.612))"
      ],
      "metadata": {
        "id": "N97UelZtUajE",
        "colab": {
          "base_uri": "https://localhost:8080/"
        },
        "outputId": "41653dda-11d2-4e8c-f1da-6ebbd91e02d8"
      },
      "execution_count": 2,
      "outputs": [
        {
          "output_type": "stream",
          "name": "stdout",
          "text": [
            "Enter the KM : 2\n",
            "After conversion : 1.2406947890818858 miles\n"
          ]
        }
      ]
    },
    {
      "cell_type": "markdown",
      "source": [
        "Question 2: Write a Python program to convert Celsius to Fahrenheit?"
      ],
      "metadata": {
        "id": "w-nOtDPsUur9"
      }
    },
    {
      "cell_type": "code",
      "source": [
        "n = int(input(\"Enter the KM : \"))\n",
        "print(\"After conversion : {} fahrenheit\".format((n*9)/5+32))"
      ],
      "metadata": {
        "id": "ArVRwH2sUttr",
        "colab": {
          "base_uri": "https://localhost:8080/"
        },
        "outputId": "f458e9ee-37ef-41a2-b202-df32af1db94b"
      },
      "execution_count": 4,
      "outputs": [
        {
          "output_type": "stream",
          "name": "stdout",
          "text": [
            "Enter the KM : 37\n",
            "After conversion : 98.6 fahrenheit\n"
          ]
        }
      ]
    },
    {
      "cell_type": "markdown",
      "source": [
        "Question 3. Write a Python program to display calendar?"
      ],
      "metadata": {
        "id": "lS7AxWf9WSWA"
      }
    },
    {
      "cell_type": "code",
      "source": [
        "import calendar\n",
        "year = int(input(\"Enter year : \"))\n",
        "month = int(input(\"Enter month : \"))\n",
        "print(calendar.month(year,month))"
      ],
      "metadata": {
        "colab": {
          "base_uri": "https://localhost:8080/"
        },
        "id": "uTREfVNFWHJu",
        "outputId": "75ff2754-376b-4a63-979a-3b29abf6c2a8"
      },
      "execution_count": 7,
      "outputs": [
        {
          "output_type": "stream",
          "name": "stdout",
          "text": [
            "Enter year : 2001\n",
            "Enter month : 10\n",
            "    October 2001\n",
            "Mo Tu We Th Fr Sa Su\n",
            " 1  2  3  4  5  6  7\n",
            " 8  9 10 11 12 13 14\n",
            "15 16 17 18 19 20 21\n",
            "22 23 24 25 26 27 28\n",
            "29 30 31\n",
            "\n"
          ]
        }
      ]
    },
    {
      "cell_type": "markdown",
      "source": [
        "Question 4: Write a Python program to solve quadratic equation?"
      ],
      "metadata": {
        "id": "tch9K_PjXeqF"
      }
    },
    {
      "cell_type": "code",
      "source": [
        "import cmath\n",
        "a = int(input(\"Enter a : \"))\n",
        "b = int(input(\"Enter b : \"))\n",
        "c = int(input(\"Enter c : \"))\n",
        "d = (b**2) - (4*a*c)\n",
        "sol1 = (-b-cmath.sqrt(d))/(2*a)\n",
        "sol2 = (-b+cmath.sqrt(d))/(2*a)\n",
        "print('The solution are {0} and {1}'.format(sol1,sol2))"
      ],
      "metadata": {
        "colab": {
          "base_uri": "https://localhost:8080/"
        },
        "id": "Os3yUifKWmLI",
        "outputId": "1510bb69-8191-485b-cca3-ef85f6985c03"
      },
      "execution_count": 8,
      "outputs": [
        {
          "output_type": "stream",
          "name": "stdout",
          "text": [
            "Enter a : 1\n",
            "Enter b : 2\n",
            "Enter c : 1\n",
            "The solution are (-1+0j) and (-1+0j)\n"
          ]
        }
      ]
    },
    {
      "cell_type": "markdown",
      "source": [
        "Question 5: 5. Write a Python program to swap two variables without temp variable?\n"
      ],
      "metadata": {
        "id": "XnK40gTkYWKI"
      }
    },
    {
      "cell_type": "code",
      "source": [
        "a = int(input(\"Enter a : \"))\n",
        "b = int(input(\"Enter b : \"))\n",
        "print(\"Before swapping : {} , {}\" .format(a,b))\n",
        "a,b= b,a\n",
        "print(\"After swapping : {} , {}\" .format(a,b))\n"
      ],
      "metadata": {
        "colab": {
          "base_uri": "https://localhost:8080/"
        },
        "id": "8-yj5ShwYAr1",
        "outputId": "fc73c8fa-3eab-4b91-eb85-17913a2e81ba"
      },
      "execution_count": 9,
      "outputs": [
        {
          "output_type": "stream",
          "name": "stdout",
          "text": [
            "Enter a : 5\n",
            "Enter b : 6\n",
            "Before swapping : 5 , 6\n",
            "After swapping : 6 , 5\n"
          ]
        }
      ]
    }
  ],
  "metadata": {
    "colab": {
      "collapsed_sections": [],
      "name": "Copy of Welcome To Colaboratory",
      "provenance": [],
      "include_colab_link": true
    },
    "kernelspec": {
      "display_name": "Python 3",
      "name": "python3"
    }
  },
  "nbformat": 4,
  "nbformat_minor": 0
}