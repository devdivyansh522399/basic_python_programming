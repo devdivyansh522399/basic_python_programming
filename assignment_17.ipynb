{
  "cells": [
    {
      "cell_type": "markdown",
      "metadata": {
        "id": "view-in-github",
        "colab_type": "text"
      },
      "source": [
        "<a href=\"https://colab.research.google.com/github/devdivyansh522399/basic_python_programming/blob/main/assignment_17.ipynb\" target=\"_parent\"><img src=\"https://colab.research.google.com/assets/colab-badge.svg\" alt=\"Open In Colab\"/></a>"
      ]
    },
    {
      "cell_type": "markdown",
      "source": [
        "Question 1: Create a function that takes three arguments a, b, c and returns the sum of the\n",
        "numbers that are evenly divided by c from the range a, b inclusive."
      ],
      "metadata": {
        "id": "aquJ2L8o0KSB"
      }
    },
    {
      "cell_type": "code",
      "source": [
        "def even_sum(a,b,c):\n",
        "  sum = 0\n",
        "  for i in range(a,b+1):\n",
        "    if(i%c==0):\n",
        "      sum += i\n",
        "  return sum\n",
        "a,b,c =list(map(int, input().split()))[:3]\n",
        "print(even_sum(a,b,c))"
      ],
      "metadata": {
        "id": "Wynzx1Ma0fQT",
        "outputId": "a4bd9259-324c-45fc-8bd4-06cb90188e4a",
        "colab": {
          "base_uri": "https://localhost:8080/"
        }
      },
      "execution_count": 2,
      "outputs": [
        {
          "output_type": "stream",
          "name": "stdout",
          "text": [
            "1 2 3\n",
            "0\n"
          ]
        }
      ]
    },
    {
      "cell_type": "markdown",
      "source": [
        "Question 2: Create a function that returns True if a given inequality expression is correct and\n",
        "False otherwise."
      ],
      "metadata": {
        "id": "lIdp_IS-3OKy"
      }
    },
    {
      "cell_type": "code",
      "source": [
        "def cal(s):\n",
        "  return eval(s)\n",
        "s = input(\"Enter the string : \")\n",
        "print(cal(s))"
      ],
      "metadata": {
        "id": "VpK04N081g6X",
        "outputId": "99d764bb-5fb7-4470-bf99-fa2208f0969d",
        "colab": {
          "base_uri": "https://localhost:8080/"
        }
      },
      "execution_count": 3,
      "outputs": [
        {
          "output_type": "stream",
          "name": "stdout",
          "text": [
            "Enter the string : 3<7>4<9<11>10<100\n",
            "True\n"
          ]
        }
      ]
    },
    {
      "cell_type": "markdown",
      "source": [
        "Question 3: Create a function that replaces all the vowels in a string with a specified character."
      ],
      "metadata": {
        "id": "OCfArsMs4sYR"
      }
    },
    {
      "cell_type": "code",
      "source": [
        "\n",
        "s = input(\"Enter the string : \")\n",
        "def modify(s):\n",
        "  vowel = ['a','e','i','o','u']\n",
        "  st = ''\n",
        "  for i in vowel:\n",
        "    s= s.replace(i,'?')\n",
        "  return s\n",
        "print(modify(s))"
      ],
      "metadata": {
        "id": "ecBXK5zZ4bqU",
        "outputId": "2b861dd9-b862-465a-cb31-07bfd0b217db",
        "colab": {
          "base_uri": "https://localhost:8080/"
        }
      },
      "execution_count": 8,
      "outputs": [
        {
          "output_type": "stream",
          "name": "stdout",
          "text": [
            "Enter the string : i am the devil of my wolrd\n",
            "? ?m th? d?v?l ?f my w?lrd\n"
          ]
        }
      ]
    },
    {
      "cell_type": "markdown",
      "source": [
        "Question 4: Write a function that calculates the factorial of a number recursively."
      ],
      "metadata": {
        "id": "t8hEKYJIAmR3"
      }
    },
    {
      "cell_type": "code",
      "source": [
        "def fact(n):\n",
        "  if(n==1 or n==0):\n",
        "    return 1\n",
        "  else:\n",
        "    return n*fact(n-1)\n",
        "n = int(input(\"Enter the number : \"))\n",
        "print(\"Factorial is : \", fact(n))"
      ],
      "metadata": {
        "id": "qBxonTew5l93",
        "outputId": "fe1a33bc-2da0-415e-85e1-7cc62dbd2b8b",
        "colab": {
          "base_uri": "https://localhost:8080/"
        }
      },
      "execution_count": 9,
      "outputs": [
        {
          "output_type": "stream",
          "name": "stdout",
          "text": [
            "Enter the number : 6\n",
            "Factorial is :  720\n"
          ]
        }
      ]
    },
    {
      "cell_type": "markdown",
      "source": [
        "Question 5: Create a function that computes the hamming distance between two strings."
      ],
      "metadata": {
        "id": "riFq9dapBGcB"
      }
    },
    {
      "cell_type": "code",
      "source": [
        "def hamming(s,t):\n",
        "  count = 0\n",
        "  for i in range(len(s)):\n",
        "    if(s[i]==t[i]):\n",
        "      count+=1\n",
        "    else:\n",
        "      break\n",
        "  if(count==len(s)):\n",
        "    return 0\n",
        "  else:\n",
        "    return count\n",
        "s,t = list(map(str, input().split()))[:2]\n",
        "print(hamming(s,t))\n"
      ],
      "metadata": {
        "id": "OTD33JDfBEIz",
        "outputId": "dba0307d-fcf8-4139-8394-8231a1a7acd5",
        "colab": {
          "base_uri": "https://localhost:8080/"
        }
      },
      "execution_count": 13,
      "outputs": [
        {
          "output_type": "stream",
          "name": "stdout",
          "text": [
            "divyansh divyahs\n",
            "5\n"
          ]
        }
      ]
    },
    {
      "cell_type": "code",
      "source": [
        ""
      ],
      "metadata": {
        "id": "dd9_l20eEyhr"
      },
      "execution_count": null,
      "outputs": []
    }
  ],
  "metadata": {
    "colab": {
      "collapsed_sections": [],
      "name": "Welcome To Colaboratory",
      "toc_visible": true,
      "provenance": [],
      "include_colab_link": true
    },
    "kernelspec": {
      "display_name": "Python 3",
      "name": "python3"
    }
  },
  "nbformat": 4,
  "nbformat_minor": 0
}