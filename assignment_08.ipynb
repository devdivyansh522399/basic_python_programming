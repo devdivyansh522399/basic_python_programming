{
  "cells": [
    {
      "cell_type": "markdown",
      "metadata": {
        "id": "view-in-github",
        "colab_type": "text"
      },
      "source": [
        "<a href=\"https://colab.research.google.com/github/devdivyansh522399/python_basic_programming/blob/main/assignment_08.ipynb\" target=\"_parent\"><img src=\"https://colab.research.google.com/assets/colab-badge.svg\" alt=\"Open In Colab\"/></a>"
      ]
    },
    {
      "cell_type": "markdown",
      "source": [
        "Question 1: Write a Python Program to Add Two Matrices?\n"
      ],
      "metadata": {
        "id": "H1EqJmuyk9Ee"
      }
    },
    {
      "cell_type": "code",
      "source": [
        "l1 = [[0,0,0],[0,0,0],[0,0,0]]\n",
        "print(\"In first matrix- \")\n",
        "for x in range(3):\n",
        "    for y in range(3):\n",
        "        j = int(input(\"Enter the matrix number {}{} : \".format(x+1,y+1)))\n",
        "        l1[x][y] = j\n",
        "for j in range(3):\n",
        "    for i in range(3):\n",
        "        print(l1[j][i],end = ' ')\n",
        "    print(\"\\n\")\n",
        "l2 = [[0,0,0],[0,0,0],[0,0,0]]\n",
        "print(\"In second matrix- \")\n",
        "for x in range(3):\n",
        "    for y in range(3):\n",
        "        j = int(input(\"Enter the matrix number {}{} : \".format(x+1,y+1)))\n",
        "        l2[x][y] = j\n",
        "for j in range(3):\n",
        "    for i in range(3):\n",
        "        print(l2[j][i],end = ' ')\n",
        "    print(\"\\n\")\n",
        "result = [[0,0,0],[0,0,0],[0,0,0]]\n",
        "for x in range(3):\n",
        "    for y in range(3):\n",
        "          result[x][y] = l1[x][y] + l2[x][y]\n",
        "print(\"ADDITION OF MATRIX IS : \")\n",
        "for o in range(3):\n",
        "    for p in range(3):\n",
        "        print(result[o][p],end = ' ')\n",
        "    print(\"\\n\")   \n",
        "    \n",
        "    \n"
      ],
      "metadata": {
        "colab": {
          "base_uri": "https://localhost:8080/"
        },
        "id": "iGdlscSvlF0H",
        "outputId": "92bce0b3-2f40-461e-d24b-8300b31395af"
      },
      "execution_count": 26,
      "outputs": [
        {
          "output_type": "stream",
          "name": "stdout",
          "text": [
            "In first matrix- \n",
            "Enter the matrix number 11 : 1\n",
            "Enter the matrix number 12 : 1\n",
            "Enter the matrix number 13 : 1\n",
            "Enter the matrix number 21 : 1\n",
            "Enter the matrix number 22 : 1\n",
            "Enter the matrix number 23 : 1\n",
            "Enter the matrix number 31 : 1\n",
            "Enter the matrix number 32 : 1\n",
            "Enter the matrix number 33 : 1\n",
            "1 1 1 \n",
            "\n",
            "1 1 1 \n",
            "\n",
            "1 1 1 \n",
            "\n",
            "In second matrix- \n",
            "Enter the matrix number 11 : 1\n",
            "Enter the matrix number 12 : 1\n",
            "Enter the matrix number 13 : 1\n",
            "Enter the matrix number 21 : 1\n",
            "Enter the matrix number 22 : 1\n",
            "Enter the matrix number 23 : 1\n",
            "Enter the matrix number 31 : 1\n",
            "Enter the matrix number 32 : 1\n",
            "Enter the matrix number 33 : 1\n",
            "1 1 1 \n",
            "\n",
            "1 1 1 \n",
            "\n",
            "1 1 1 \n",
            "\n",
            "2 2 2 \n",
            "\n",
            "2 2 2 \n",
            "\n",
            "2 2 2 \n",
            "\n"
          ]
        }
      ]
    },
    {
      "cell_type": "markdown",
      "source": [
        "Question 2: Write a Python Program to Multiply Two Matrices?"
      ],
      "metadata": {
        "id": "Q3LtgmD3nGy0"
      }
    },
    {
      "cell_type": "code",
      "source": [
        "l1 = [[0,0,0],[0,0,0],[0,0,0]]\n",
        "print(\"In first matrix- \")\n",
        "for x in range(3):\n",
        "    for y in range(3):\n",
        "        j = int(input(\"Enter the matrix number {}{} : \".format(x+1,y+1)))\n",
        "        l1[x][y] = j\n",
        "for j in range(3):\n",
        "    for i in range(3):\n",
        "        print(l1[j][i],end = ' ')\n",
        "    print(\"\\n\")\n",
        "l2 = [[0,0,0],[0,0,0],[0,0,0]]\n",
        "print(\"In second matrix- \")\n",
        "for x in range(3):\n",
        "    for y in range(3):\n",
        "        j = int(input(\"Enter the matrix number {}{} : \".format(x+1,y+1)))\n",
        "        l2[x][y] = j\n",
        "for j in range(3):\n",
        "    for i in range(3):\n",
        "        print(l2[j][i],end = ' ')\n",
        "    print(\"\\n\")\n",
        "result = [[0,0,0],[0,0,0],[0,0,0]]\n",
        "for x in range(3):\n",
        "    for y in range(3):\n",
        "        for z in range(3):\n",
        "            result[x][y] += l1[x][z] * l2[z][y]\n",
        "print(\"MULTIPLICATION OF MATRIX IS : \")\n",
        "for o in range(3):\n",
        "    for p in range(3):\n",
        "        print(result[o][p],end = ' ')\n",
        "    print(\"\\n\")   \n",
        "    \n",
        "    \n"
      ],
      "metadata": {
        "colab": {
          "base_uri": "https://localhost:8080/"
        },
        "id": "PozJWecPmi23",
        "outputId": "28c0288a-3cb0-417a-bdf8-cfdda45121cd"
      },
      "execution_count": 23,
      "outputs": [
        {
          "output_type": "stream",
          "name": "stdout",
          "text": [
            "In first matrix- \n",
            "Enter the matrix number 11 : 1\n",
            "Enter the matrix number 12 : 1\n",
            "Enter the matrix number 13 : 1\n",
            "Enter the matrix number 21 : 1\n",
            "Enter the matrix number 22 : 1\n",
            "Enter the matrix number 23 : 1\n",
            "Enter the matrix number 31 : 1\n",
            "Enter the matrix number 32 : 1\n",
            "Enter the matrix number 33 : 1\n",
            "1 1 1 \n",
            "\n",
            "1 1 1 \n",
            "\n",
            "1 1 1 \n",
            "\n",
            "In second matrix- \n",
            "Enter the matrix number 11 : 1\n",
            "Enter the matrix number 12 : 1\n",
            "Enter the matrix number 13 : 1\n",
            "Enter the matrix number 21 : 1\n",
            "Enter the matrix number 22 : 1\n",
            "Enter the matrix number 23 : 1\n",
            "Enter the matrix number 31 : 1\n",
            "Enter the matrix number 32 : 1\n",
            "Enter the matrix number 33 : 1\n",
            "1 1 1 \n",
            "\n",
            "1 1 1 \n",
            "\n",
            "1 1 1 \n",
            "\n",
            "3 3 3 \n",
            "\n",
            "3 3 3 \n",
            "\n",
            "3 3 3 \n",
            "\n"
          ]
        }
      ]
    },
    {
      "cell_type": "markdown",
      "source": [
        "Question 3: Write a Python Program to Transpose a Matrix?"
      ],
      "metadata": {
        "id": "P07r3xhjosYs"
      }
    },
    {
      "cell_type": "code",
      "source": [
        "l1 = [[0,0,0],[0,0,0],[0,0,0]]\n",
        "print(\"In first matrix- \")\n",
        "for x in range(3):\n",
        "    for y in range(3):\n",
        "        j = int(input(\"Enter the matrix number {}{} : \".format(x+1,y+1)))\n",
        "        l1[x][y] = j\n",
        "for j in range(3):\n",
        "    for i in range(3):\n",
        "        print(l1[j][i],end = ' ')\n",
        "    print(\"\\n\")\n",
        "result = [[0,0,0],[0,0,0],[0,0,0]]\n",
        "for x in range(3):\n",
        "    for y in range(3):\n",
        "          result[y][x] = l1[x][y]\n",
        "print(\"TRASPOSE OF MATRIX IS : \")\n",
        "for o in range(3):\n",
        "    for p in range(3):\n",
        "        print(result[o][p],end = ' ')\n",
        "    print(\"\\n\")   \n",
        "    \n",
        "    \n"
      ],
      "metadata": {
        "colab": {
          "base_uri": "https://localhost:8080/"
        },
        "id": "_dhIK-HCoYUj",
        "outputId": "f182af42-0f34-4449-f93b-ca01d9019f36"
      },
      "execution_count": 27,
      "outputs": [
        {
          "output_type": "stream",
          "name": "stdout",
          "text": [
            "In first matrix- \n",
            "Enter the matrix number 11 : 1\n",
            "Enter the matrix number 12 : 1\n",
            "Enter the matrix number 13 : 1\n",
            "Enter the matrix number 21 : 2\n",
            "Enter the matrix number 22 : 2\n",
            "Enter the matrix number 23 : 2\n",
            "Enter the matrix number 31 : 3\n",
            "Enter the matrix number 32 : 3\n",
            "Enter the matrix number 33 : 3\n",
            "1 1 1 \n",
            "\n",
            "2 2 2 \n",
            "\n",
            "3 3 3 \n",
            "\n",
            "TRASPOSE OF MATRIX IS : \n",
            "1 2 3 \n",
            "\n",
            "1 2 3 \n",
            "\n",
            "1 2 3 \n",
            "\n"
          ]
        }
      ]
    },
    {
      "cell_type": "markdown",
      "source": [
        "Question 4: Write a Python Program to Sort Words in Alphabetic Order?"
      ],
      "metadata": {
        "id": "J0qaywilqeeO"
      }
    },
    {
      "cell_type": "code",
      "source": [
        "string = input()\n",
        "words = [word.lower() for word in string.split(',')]\n",
        "words.sort()\n",
        "print(\"The sorted words are:\")\n",
        "for word in words:\n",
        "   print(word)\n"
      ],
      "metadata": {
        "colab": {
          "base_uri": "https://localhost:8080/"
        },
        "id": "kHkGmPThqQdb",
        "outputId": "61b55c8d-52b2-4cc1-c55c-ef543a564d92"
      },
      "execution_count": 28,
      "outputs": [
        {
          "output_type": "stream",
          "name": "stdout",
          "text": [
            "divyansh,ramesh,swapnil,anuj,anupam,bhawna,harsh,pandey\n",
            "The sorted words are:\n",
            "anuj\n",
            "anupam\n",
            "bhawna\n",
            "divyansh\n",
            "harsh\n",
            "pandey\n",
            "ramesh\n",
            "swapnil\n"
          ]
        }
      ]
    },
    {
      "cell_type": "markdown",
      "source": [
        "Question 5: Write a Python Program to Remove Punctuation From a String?"
      ],
      "metadata": {
        "id": "MyD7yhtYrEnh"
      }
    },
    {
      "cell_type": "code",
      "source": [
        "punctuations = '''!()-[]{};:'\"\\,<>./?@#$%^&*_~'''\n",
        "string = input()\n",
        "no_punctuation = \"\"\n",
        "for i in string:\n",
        "   if i not in punctuations:\n",
        "       no_punctuation = no_punctuation + i\n",
        "print(no_punctuation)"
      ],
      "metadata": {
        "colab": {
          "base_uri": "https://localhost:8080/"
        },
        "id": "ESmskKeCq_dx",
        "outputId": "0c2d08a2-00a4-40bd-82f4-35660c058018"
      },
      "execution_count": 29,
      "outputs": [
        {
          "output_type": "stream",
          "name": "stdout",
          "text": [
            "hello! my name is divyansh dev.\n",
            "hello my name is divyansh dev\n"
          ]
        }
      ]
    }
  ],
  "metadata": {
    "colab": {
      "collapsed_sections": [],
      "name": "Welcome To Colaboratory",
      "provenance": [],
      "include_colab_link": true
    },
    "kernelspec": {
      "display_name": "Python 3",
      "name": "python3"
    }
  },
  "nbformat": 4,
  "nbformat_minor": 0
}