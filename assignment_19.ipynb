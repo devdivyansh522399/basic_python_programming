{
  "cells": [
    {
      "cell_type": "markdown",
      "metadata": {
        "id": "view-in-github",
        "colab_type": "text"
      },
      "source": [
        "<a href=\"https://colab.research.google.com/github/devdivyansh522399/basic_python_programming/blob/main/Welcome_To_Colaboratory.ipynb\" target=\"_parent\"><img src=\"https://colab.research.google.com/assets/colab-badge.svg\" alt=\"Open In Colab\"/></a>"
      ]
    },
    {
      "cell_type": "markdown",
      "source": [
        "Question 1: Create a function that takes a string and returns a string in which each character is repeated\n",
        "once."
      ],
      "metadata": {
        "id": "7klWe3eCrd2e"
      }
    },
    {
      "cell_type": "code",
      "source": [
        "def mani(s):\n",
        "  st = ''\n",
        "  for i in range(len(s)):\n",
        "    st += 2*s[i]\n",
        "  return st\n",
        "s = input(\"Enter the string : \")\n",
        "print(mani(s))"
      ],
      "metadata": {
        "id": "4XG5pKIzriY5",
        "outputId": "e5f4249f-8f5f-4845-d875-a8deee305503",
        "colab": {
          "base_uri": "https://localhost:8080/"
        }
      },
      "execution_count": 3,
      "outputs": [
        {
          "output_type": "stream",
          "name": "stdout",
          "text": [
            "Enter the string : 2345\n",
            "22334455\n"
          ]
        }
      ]
    },
    {
      "cell_type": "markdown",
      "source": [
        "Question 2: Create a function that reverses a boolean value and returns the string &quot;boolean expected&quot;\n",
        "if another variable type is given."
      ],
      "metadata": {
        "id": "GonpEdS5sIEG"
      }
    },
    {
      "cell_type": "code",
      "source": [
        "def reverse(arg):\n",
        "\tif isinstance(arg, bool):\n",
        "\t\treturn not arg\n",
        "\telse:\n",
        "\t\treturn('boolean expected')\n",
        "\n",
        "def reverse(arg=None):\n",
        "\treturn not arg if type(arg) == bool else \"boolean expected\"\n",
        "\n",
        "print(reverse(True)) # False\n",
        "print(reverse(False)) # True\n",
        "print(reverse(0)) # \"boolean expected\"\n",
        "print(reverse(None)) # \"boolean expected\""
      ],
      "metadata": {
        "id": "PhWzEXbfr_l6",
        "outputId": "339aaefa-af99-4b12-d61f-4877a0853c01",
        "colab": {
          "base_uri": "https://localhost:8080/"
        }
      },
      "execution_count": 4,
      "outputs": [
        {
          "output_type": "stream",
          "name": "stdout",
          "text": [
            "False\n",
            "True\n",
            "boolean expected\n",
            "boolean expected\n"
          ]
        }
      ]
    },
    {
      "cell_type": "markdown",
      "source": [
        "Question 3: Create a function that returns the thickness (in meters) of a piece of paper after folding it n\n",
        "number of times. The paper starts off with a thickness of 0.5mm."
      ],
      "metadata": {
        "id": "1r7H3WsSsVj1"
      }
    },
    {
      "cell_type": "code",
      "source": [
        "def num_layer(n):\n",
        "  return 0.0005*(2**(n-1))\n",
        "n= int(input(\"Enter number of layer: \"))\n",
        "print(num_layer(n))"
      ],
      "metadata": {
        "id": "09sEizqvsUbx",
        "outputId": "9ee39137-7648-4e7a-9cd0-79636fb3aa39",
        "colab": {
          "base_uri": "https://localhost:8080/"
        }
      },
      "execution_count": 7,
      "outputs": [
        {
          "output_type": "stream",
          "name": "stdout",
          "text": [
            "Enter number of layer: 5\n",
            "0.008\n"
          ]
        }
      ]
    },
    {
      "cell_type": "markdown",
      "source": [
        "Create a function that takes a single string as argument and returns an ordered list containing\n",
        "the indices of all capital letters in the string."
      ],
      "metadata": {
        "id": "KxO99-LAtASb"
      }
    },
    {
      "cell_type": "code",
      "source": [
        "def func(n):\n",
        "  lst = []\n",
        "  for i in range(len(n)):\n",
        "    if(s[i].isupper()):\n",
        "      lst.append(i+1)\n",
        "  return lst\n",
        "n = input()\n",
        "print(func(n))"
      ],
      "metadata": {
        "id": "ZTHGMJJ0szFW",
        "outputId": "2d09f6df-a072-46e9-c00b-523fe19f0083",
        "colab": {
          "base_uri": "https://localhost:8080/"
        }
      },
      "execution_count": 14,
      "outputs": [
        {
          "output_type": "stream",
          "name": "stdout",
          "text": [
            "hgr6\n",
            "[]\n"
          ]
        }
      ]
    },
    {
      "cell_type": "markdown",
      "source": [
        "Question 5:Using list comprehensions, create a function that finds all even numbers from 1 to the given\n",
        "number."
      ],
      "metadata": {
        "id": "VrZBjjwGuNSc"
      }
    },
    {
      "cell_type": "code",
      "source": [
        "n = int(input())\n",
        "print([i for i in range(n) if i%2==0 ])"
      ],
      "metadata": {
        "id": "5IksyCn7tnuj",
        "outputId": "8662154f-92cf-4d9f-c19f-a043b8ed0ff6",
        "colab": {
          "base_uri": "https://localhost:8080/"
        }
      },
      "execution_count": 13,
      "outputs": [
        {
          "output_type": "stream",
          "name": "stdout",
          "text": [
            "100\n",
            "[0, 2, 4, 6, 8, 10, 12, 14, 16, 18, 20, 22, 24, 26, 28, 30, 32, 34, 36, 38, 40, 42, 44, 46, 48, 50, 52, 54, 56, 58, 60, 62, 64, 66, 68, 70, 72, 74, 76, 78, 80, 82, 84, 86, 88, 90, 92, 94, 96, 98]\n"
          ]
        }
      ]
    },
    {
      "cell_type": "code",
      "source": [
        ""
      ],
      "metadata": {
        "id": "MDW3vg0kujvI"
      },
      "execution_count": null,
      "outputs": []
    }
  ],
  "metadata": {
    "colab": {
      "collapsed_sections": [],
      "name": "Welcome To Colaboratory",
      "toc_visible": true,
      "provenance": [],
      "include_colab_link": true
    },
    "kernelspec": {
      "display_name": "Python 3",
      "name": "python3"
    }
  },
  "nbformat": 4,
  "nbformat_minor": 0
}
