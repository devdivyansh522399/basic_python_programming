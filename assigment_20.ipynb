{
  "cells": [
    {
      "cell_type": "markdown",
      "metadata": {
        "id": "view-in-github",
        "colab_type": "text"
      },
      "source": [
        "<a href=\"https://colab.research.google.com/github/devdivyansh522399/basic_python_programming/blob/main/assigment_20.ipynb\" target=\"_parent\"><img src=\"https://colab.research.google.com/assets/colab-badge.svg\" alt=\"Open In Colab\"/></a>"
      ]
    },
    {
      "cell_type": "markdown",
      "source": [
        "Question 1: Create a function that takes a list of strings and integers, and filters out the list so that it\n",
        "returns a list of integers only."
      ],
      "metadata": {
        "id": "7klWe3eCrd2e"
      }
    },
    {
      "cell_type": "code",
      "source": [
        "def mani(s):\n",
        "  lst = []\n",
        "  for i in s:\n",
        "    if(type(i)==int):\n",
        "      lst.append(i)\n",
        "  return lst\n",
        "s = ['a', 'b', 'c', 'd', 1, 2,3,4,]\n",
        "print(mani(s))"
      ],
      "metadata": {
        "colab": {
          "base_uri": "https://localhost:8080/"
        },
        "id": "4XG5pKIzriY5",
        "outputId": "dc3c9c37-8240-4ff7-f537-8d5da4af7947"
      },
      "execution_count": 16,
      "outputs": [
        {
          "output_type": "stream",
          "name": "stdout",
          "text": [
            "[1, 2, 3, 4]\n"
          ]
        }
      ]
    },
    {
      "cell_type": "markdown",
      "source": [
        "Question 2: Given a list of numbers, create a function which returns the list but with each element&#39;s\n",
        "index in the list added to itself. This means you add 0 to the number at index 0, add 1 to the\n",
        "number at index 1, etc..."
      ],
      "metadata": {
        "id": "GonpEdS5sIEG"
      }
    },
    {
      "cell_type": "code",
      "source": [
        "def mani(s):\n",
        "  lst = 0\n",
        "  for i in range(len(s)):\n",
        "    s[i] = s[i] + lst\n",
        "    lst+=1\n",
        "  return s\n",
        "s = [1, 2,3,4]\n",
        "print(mani(s))"
      ],
      "metadata": {
        "colab": {
          "base_uri": "https://localhost:8080/"
        },
        "id": "PhWzEXbfr_l6",
        "outputId": "5ccc8621-34a7-44ae-9c43-2c3a46180f37"
      },
      "execution_count": 18,
      "outputs": [
        {
          "output_type": "stream",
          "name": "stdout",
          "text": [
            "[1, 3, 5, 7]\n"
          ]
        }
      ]
    },
    {
      "cell_type": "markdown",
      "source": [
        "Question 3: Create a function that takes the height and radius of a cone as arguments and returns the\n",
        "volume of the cone rounded to the nearest hundredth. See the resources tab for the formula."
      ],
      "metadata": {
        "id": "1r7H3WsSsVj1"
      }
    },
    {
      "cell_type": "code",
      "source": [
        "def volume(n, h):\n",
        "  return ((n**2)*h*3.14)/3\n",
        "n = int(input())\n",
        "h = int(input())\n",
        "print(volume(n, h))"
      ],
      "metadata": {
        "colab": {
          "base_uri": "https://localhost:8080/"
        },
        "id": "09sEizqvsUbx",
        "outputId": "8c8b6805-5118-42fd-eaa6-773b766c57d4"
      },
      "execution_count": 20,
      "outputs": [
        {
          "output_type": "stream",
          "name": "stdout",
          "text": [
            "1\n",
            "1\n",
            "1.0466666666666666\n"
          ]
        }
      ]
    },
    {
      "cell_type": "markdown",
      "source": [
        "This Triangular Number Sequence is generated from a pattern of dots that form a triangle.\n",
        "The first 5 numbers of the sequence, or dots, are:\n",
        "1, 3, 6, 10, 15\n",
        "This means that the first triangle has just one dot, the second one has three dots, the third one\n",
        "has 6 dots and so on.\n",
        "Write a function that gives the number of dots with its corresponding triangle number of the\n",
        "sequence."
      ],
      "metadata": {
        "id": "KxO99-LAtASb"
      }
    },
    {
      "cell_type": "code",
      "source": [
        "def func(n):\n",
        "  return (n*(n+1))/2\n",
        "n = int(input())\n",
        "print(int(func(n)))"
      ],
      "metadata": {
        "colab": {
          "base_uri": "https://localhost:8080/"
        },
        "id": "ZTHGMJJ0szFW",
        "outputId": "12ca120e-6f15-476f-cf97-8957aebc48fd"
      },
      "execution_count": 22,
      "outputs": [
        {
          "output_type": "stream",
          "name": "stdout",
          "text": [
            "6\n",
            "21\n"
          ]
        }
      ]
    },
    {
      "cell_type": "markdown",
      "source": [
        "Question 5:Using list comprehensions, create a function that finds all even numbers from 1 to the given\n",
        "number."
      ],
      "metadata": {
        "id": "VrZBjjwGuNSc"
      }
    },
    {
      "cell_type": "code",
      "source": [
        "def func(n):\n",
        "  lst = [1,2,3,4,5,6,7,8,9,10]\n",
        "  for i in lst:\n",
        "    if(i in n):\n",
        "      pass\n",
        "    else:\n",
        "      print(i)\n",
        "n = list(map(int, input().split()))\n"
      ],
      "metadata": {
        "colab": {
          "base_uri": "https://localhost:8080/"
        },
        "id": "5IksyCn7tnuj",
        "outputId": "722f9164-3595-48d9-c492-e95f67317693"
      },
      "execution_count": 24,
      "outputs": [
        {
          "name": "stdout",
          "output_type": "stream",
          "text": [
            "1 2 3 4 5\n"
          ]
        }
      ]
    },
    {
      "cell_type": "code",
      "source": [
        ""
      ],
      "metadata": {
        "id": "MDW3vg0kujvI"
      },
      "execution_count": null,
      "outputs": []
    }
  ],
  "metadata": {
    "colab": {
      "collapsed_sections": [],
      "name": "Welcome To Colaboratory",
      "toc_visible": true,
      "provenance": [],
      "include_colab_link": true
    },
    "kernelspec": {
      "display_name": "Python 3",
      "name": "python3"
    }
  },
  "nbformat": 4,
  "nbformat_minor": 0
}