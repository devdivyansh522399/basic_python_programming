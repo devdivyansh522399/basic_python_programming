{
  "cells": [
    {
      "cell_type": "markdown",
      "metadata": {
        "id": "view-in-github",
        "colab_type": "text"
      },
      "source": [
        "<a href=\"https://colab.research.google.com/github/devdivyansh522399/python_basic_programming/blob/main/assignment_10.ipynb\" target=\"_parent\"><img src=\"https://colab.research.google.com/assets/colab-badge.svg\" alt=\"Open In Colab\"/></a>"
      ]
    },
    {
      "cell_type": "markdown",
      "source": [
        "Question 1: Write a Python program to find sum of elements in list?"
      ],
      "metadata": {
        "id": "3f7hKedQbAeA"
      }
    },
    {
      "cell_type": "code",
      "source": [
        "n = int(input(\"Enter the size of list : \"))\n",
        "print(\"Enter the {} separate element\" .format(n))\n",
        "lst = list(map(int, input().split()))[:n]\n",
        "sum = 0\n",
        "for i in lst:\n",
        "  sum = sum + i\n",
        "print(\"sum :\",sum)"
      ],
      "metadata": {
        "id": "EVgpqjFxbA1J",
        "outputId": "fb9e0f17-4c68-4fab-f6bb-227c37251c5e",
        "colab": {
          "base_uri": "https://localhost:8080/"
        }
      },
      "execution_count": 5,
      "outputs": [
        {
          "output_type": "stream",
          "name": "stdout",
          "text": [
            "Enter the size of list : 5\n",
            "Enter the 5 separate element\n",
            "12 3 23 2 1\n",
            "sum : 41\n"
          ]
        }
      ]
    },
    {
      "cell_type": "markdown",
      "source": [
        "Question 2: Write a Python program to Multiply all numbers in the list?"
      ],
      "metadata": {
        "id": "ASG4QUyniV9M"
      }
    },
    {
      "cell_type": "code",
      "source": [
        "n = int(input(\"Enter the size of list : \"))\n",
        "print(\"Enter the {} separate element\" .format(n))\n",
        "lst = list(map(int, input().split()))[:n]\n",
        "mul = 1\n",
        "for i in lst:\n",
        "  mul =  mul*i\n",
        "print(\"multiplication :\",mul)"
      ],
      "metadata": {
        "id": "aBh9HBiIhio9",
        "outputId": "006a54ea-cb04-4ea7-83a0-3142865b6c83",
        "colab": {
          "base_uri": "https://localhost:8080/"
        }
      },
      "execution_count": 8,
      "outputs": [
        {
          "output_type": "stream",
          "name": "stdout",
          "text": [
            "Enter the size of list : 5\n",
            "Enter the 5 separate element\n",
            "1 2 3 4 5\n",
            "multiplication : 120\n"
          ]
        }
      ]
    },
    {
      "cell_type": "markdown",
      "source": [
        "question 3: Write a Python program to find smallest number in a list?"
      ],
      "metadata": {
        "id": "qiR_mX2njbFK"
      }
    },
    {
      "cell_type": "code",
      "source": [
        "n = int(input(\"Enter the size of list : \"))\n",
        "print(\"Enter the {} separate element\" .format(n))\n",
        "lst = list(map(int, input().split()))[:n]\n",
        "small = min(lst)\n",
        "print(\"Smallest element in the list : \",small)"
      ],
      "metadata": {
        "id": "0xmnTojDjQF1",
        "outputId": "a2b2524a-1fae-4951-d514-6caf5b47f2e6",
        "colab": {
          "base_uri": "https://localhost:8080/"
        }
      },
      "execution_count": 9,
      "outputs": [
        {
          "output_type": "stream",
          "name": "stdout",
          "text": [
            "Enter the size of list : 5\n",
            "Enter the 5 separate element\n",
            "1 2 3 4 5\n",
            "Smallest element in the list :  1\n"
          ]
        }
      ]
    },
    {
      "cell_type": "markdown",
      "source": [
        "Question 4: Write a Python program to find largest number in a list?"
      ],
      "metadata": {
        "id": "0NomRt4zj8Mw"
      }
    },
    {
      "cell_type": "code",
      "source": [
        "n = int(input(\"Enter the size of list : \"))\n",
        "print(\"Enter the {} separate element\" .format(n))\n",
        "lst = list(map(int, input().split()))[:n]\n",
        "maximum = max(lst)\n",
        "print(\"muximum element in the list : \",maximum)"
      ],
      "metadata": {
        "id": "AiknEMiJjr4m",
        "outputId": "3ed85fbe-d6ea-4470-8b71-914356717c4a",
        "colab": {
          "base_uri": "https://localhost:8080/"
        }
      },
      "execution_count": 10,
      "outputs": [
        {
          "output_type": "stream",
          "name": "stdout",
          "text": [
            "Enter the size of list : 5\n",
            "Enter the 5 separate element\n",
            "1 2 3 4 5\n",
            "muximum element in the list :  5\n"
          ]
        }
      ]
    },
    {
      "cell_type": "markdown",
      "source": [
        "Question 5: Write a Python program to find second largest number in a list?"
      ],
      "metadata": {
        "id": "nSmFgQRNkBt4"
      }
    },
    {
      "cell_type": "code",
      "source": [
        "n = int(input(\"Enter the size of list : \"))\n",
        "print(\"Enter the {} separate element\" .format(n))\n",
        "lst = list(map(int, input().split()))[:n]\n",
        "lst.sort()\n",
        "maximum = lst[n-2]\n",
        "print(\"Second muximum element in the list : \",maximum)"
      ],
      "metadata": {
        "id": "dcRbqpkRj3v3",
        "outputId": "1c71fe5d-1bed-4048-c948-07b12db77f37",
        "colab": {
          "base_uri": "https://localhost:8080/"
        }
      },
      "execution_count": 11,
      "outputs": [
        {
          "output_type": "stream",
          "name": "stdout",
          "text": [
            "Enter the size of list : 5\n",
            "Enter the 5 separate element\n",
            "1 2 3 4 5\n",
            "Second muximum element in the list :  4\n"
          ]
        }
      ]
    },
    {
      "cell_type": "markdown",
      "source": [
        "Question 6: Write a Python program to find N largest elements from a list?"
      ],
      "metadata": {
        "id": "qgeY09e8kg_q"
      }
    },
    {
      "cell_type": "code",
      "source": [
        "n = int(input(\"Enter the size of list : \"))\n",
        "print(\"Enter the {} separate element\" .format(n))\n",
        "lst = list(map(int, input().split()))[:n]\n",
        "lst.sort()\n",
        "i = int(input(\"Enter the nth element postion : \"))\n",
        "maximum = lst[n-i]\n",
        "print(\"{}th muximum element in the list : \".format(i), maximum)"
      ],
      "metadata": {
        "id": "NJUpeQ_2kaiS",
        "outputId": "3baaa5fe-ee77-4cdf-c0ca-d42eb4db7250",
        "colab": {
          "base_uri": "https://localhost:8080/"
        }
      },
      "execution_count": 13,
      "outputs": [
        {
          "output_type": "stream",
          "name": "stdout",
          "text": [
            "Enter the size of list : 5\n",
            "Enter the 5 separate element\n",
            "1 2 3 4 5\n",
            "Enter the nth element postion : 3\n",
            "3th muximum element in the list :  3\n"
          ]
        }
      ]
    },
    {
      "cell_type": "markdown",
      "source": [
        "Question 7: Write a Python program to print even numbers in a list?"
      ],
      "metadata": {
        "id": "JWxfPkIQlYaQ"
      }
    },
    {
      "cell_type": "code",
      "source": [
        "n = int(input(\"Enter the size of list : \"))\n",
        "print(\"Enter the {} separate element\" .format(n))\n",
        "lst = list(map(int, input().split()))[:n]\n",
        "print(\"All even number is in the list\")\n",
        "for i in lst:\n",
        "  if(i%2==0):\n",
        "    print(i, end=\" \")"
      ],
      "metadata": {
        "id": "PMrptqoOk5GS",
        "outputId": "2df49c69-2997-46da-8fbc-066c1291c51f",
        "colab": {
          "base_uri": "https://localhost:8080/"
        }
      },
      "execution_count": 15,
      "outputs": [
        {
          "output_type": "stream",
          "name": "stdout",
          "text": [
            "Enter the size of list : 5\n",
            "Enter the 5 separate element\n",
            "1 2 3 4 5\n",
            "All even number is in the list\n",
            "2 4 "
          ]
        }
      ]
    },
    {
      "cell_type": "markdown",
      "source": [
        "Question 8: Write a Python program to print odd numbers in a List?"
      ],
      "metadata": {
        "id": "YQxj9ucGmH1a"
      }
    },
    {
      "cell_type": "code",
      "source": [
        "n = int(input(\"Enter the size of list : \"))\n",
        "print(\"Enter the {} separate element\" .format(n))\n",
        "lst = list(map(int, input().split()))[:n]\n",
        "print(\"All odd number is in the list\")\n",
        "for i in lst:\n",
        "  if(i%2!=0):\n",
        "    print(i, end=\" \")"
      ],
      "metadata": {
        "id": "IbJHELmhln_6",
        "outputId": "fa825e6a-39d0-4e89-ef97-a6528fb2f9ac",
        "colab": {
          "base_uri": "https://localhost:8080/"
        }
      },
      "execution_count": 16,
      "outputs": [
        {
          "output_type": "stream",
          "name": "stdout",
          "text": [
            "Enter the size of list : 5\n",
            "Enter the 5 separate element\n",
            "1 2 3 4 5\n",
            "All odd number is in the list\n",
            "1 3 5 "
          ]
        }
      ]
    },
    {
      "cell_type": "markdown",
      "source": [
        "Question 9: Write a Python program to Remove empty List from List?"
      ],
      "metadata": {
        "id": "N5zc3ukfmYXX"
      }
    },
    {
      "cell_type": "code",
      "source": [
        "test_list = [5, 6, [], 3, [], [], 9]\n",
        "print(\"The original list is : \" + str(test_list))\n",
        "res = list(filter(None, test_list))\n",
        "print(\"List after empty list removal : \" + str(res))\n"
      ],
      "metadata": {
        "id": "Jw4NuIZ5mQpM",
        "outputId": "2595e5cc-4650-46ce-f1c3-d5480d29f516",
        "colab": {
          "base_uri": "https://localhost:8080/"
        }
      },
      "execution_count": 27,
      "outputs": [
        {
          "output_type": "stream",
          "name": "stdout",
          "text": [
            "The original list is : [5, 6, [], 3, [], [], 9]\n",
            "List after empty list removal : [5, 6, 3, 9]\n"
          ]
        }
      ]
    },
    {
      "cell_type": "markdown",
      "source": [
        "Question 10: Write a Python program to Cloning or Copying a list?"
      ],
      "metadata": {
        "id": "P1Mx9UBPo3If"
      }
    },
    {
      "cell_type": "code",
      "source": [
        "n = int(input(\"Enter the size of list : \"))\n",
        "print(\"Enter the {} separate element\" .format(n))\n",
        "lst = list(map(int,input().split()))[:n]\n",
        "lst2 = lst.copy()\n",
        "print(lst2)\n",
        "print(id(lst2))\n",
        "print(id(lst))\n"
      ],
      "metadata": {
        "id": "mKB9MDZTnA3I",
        "outputId": "bc1e8835-c9c6-41b4-e444-814be915de31",
        "colab": {
          "base_uri": "https://localhost:8080/"
        }
      },
      "execution_count": 22,
      "outputs": [
        {
          "output_type": "stream",
          "name": "stdout",
          "text": [
            "Enter the size of list : 5\n",
            "Enter the 5 separate element\n",
            "1 2 3 4 5\n",
            "[1, 2, 3, 4, 5]\n",
            "139630196690368\n",
            "139630196808112\n"
          ]
        }
      ]
    },
    {
      "cell_type": "markdown",
      "source": [
        "Question 11: Write a Python program to Count occurrences of an element in a list?"
      ],
      "metadata": {
        "id": "DrMEBMiVpfmc"
      }
    },
    {
      "cell_type": "code",
      "source": [
        "n = int(input(\"Enter the size of list : \"))\n",
        "print(\"Enter the {} separate element\" .format(n))\n",
        "lst = list(map(int,input().split()))[:n]\n",
        "i = int(input(\"Enter element which is to be find \"))\n",
        "count =0\n",
        "for j in lst:\n",
        "  if(j==i):\n",
        "    count+=1\n",
        "print(\"Occurance of {} is : {} \".format(i, count))"
      ],
      "metadata": {
        "id": "bdx8C37VpE4T",
        "outputId": "db714857-7527-4f7e-cc10-832827574073",
        "colab": {
          "base_uri": "https://localhost:8080/"
        }
      },
      "execution_count": 26,
      "outputs": [
        {
          "output_type": "stream",
          "name": "stdout",
          "text": [
            "Enter the size of list : 5\n",
            "Enter the 5 separate element\n",
            " 2 2 1 2 2\n",
            "Enter element which is to be find 2\n",
            "Occurance of 2 is : 4 \n"
          ]
        }
      ]
    }
  ],
  "metadata": {
    "colab": {
      "collapsed_sections": [],
      "name": "Welcome To Colaboratory",
      "toc_visible": true,
      "provenance": [],
      "include_colab_link": true
    },
    "kernelspec": {
      "display_name": "Python 3",
      "name": "python3"
    }
  },
  "nbformat": 4,
  "nbformat_minor": 0
}