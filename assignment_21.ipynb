{
  "cells": [
    {
      "cell_type": "markdown",
      "metadata": {
        "id": "view-in-github",
        "colab_type": "text"
      },
      "source": [
        "<a href=\"https://colab.research.google.com/github/devdivyansh522399/basic_python_programming/blob/main/assignment_21.ipynb\" target=\"_parent\"><img src=\"https://colab.research.google.com/assets/colab-badge.svg\" alt=\"Open In Colab\"/></a>"
      ]
    },
    {
      "cell_type": "markdown",
      "source": [
        "Question 1: Write a function that takes a list and a number as arguments. Add the number to the end of\n",
        "the list, then remove the first element of the list. The function should then return the updated\n",
        "list."
      ],
      "metadata": {
        "id": "yDlwyk0ya3QR"
      }
    },
    {
      "cell_type": "code",
      "source": [
        "def next(l, r):\n",
        "  if(len(l)>0):\n",
        "    l.remove(l[0])\n",
        "    l.append(r)\n",
        "  return l\n",
        "l = list(map(int, input().split()))[:5]\n",
        "r = int(input())\n",
        "print(next(l,r))"
      ],
      "metadata": {
        "id": "LUaw3C3Xa5ax",
        "outputId": "36fee625-9278-480f-a581-4a9b20c4ab06",
        "colab": {
          "base_uri": "https://localhost:8080/"
        }
      },
      "execution_count": 3,
      "outputs": [
        {
          "output_type": "stream",
          "name": "stdout",
          "text": [
            "1 2 3 4 5\n",
            "6\n",
            "[2, 3, 4, 5, 6]\n"
          ]
        }
      ]
    },
    {
      "cell_type": "markdown",
      "source": [
        "Question 2: Create the function that takes a list of dictionaries and returns the sum of people&#39;s budgets."
      ],
      "metadata": {
        "id": "ThV8cPFTcoTM"
      }
    },
    {
      "cell_type": "code",
      "source": [
        "def budget(l):\n",
        "  sum = 0\n",
        "  for i in l:\n",
        "    sum = sum + i[\"budget\"]\n",
        "  return sum\n",
        "l = [{ \"name\": \"John\", \"age\": 21, \"budget\": 23000 },\n",
        "{\"name\": \"John\", \"age\": 21, \"budget\": 230  },\n",
        "{ \"name\": \"John\", \"age\": 21, \"budget\": 2300 }]\n",
        "print(budget(l))"
      ],
      "metadata": {
        "id": "5ZlrDDPqbcjQ"
      },
      "execution_count": null,
      "outputs": []
    },
    {
      "cell_type": "markdown",
      "source": [
        "Question 3: Create a function that takes a string and returns a string with its letters in alphabetical order."
      ],
      "metadata": {
        "id": "cm-LlpPmdhwB"
      }
    },
    {
      "cell_type": "code",
      "source": [
        "def alpha(s):\n",
        "  lst = []\n",
        "  for i in range(len(s)):\n",
        "    lst.append(s[i])\n",
        "  lst.sort()\n",
        "  st = ''\n",
        "  for i in lst:\n",
        "    st+=i\n",
        "  return st\n",
        "st = input()\n",
        "print(alpha(st))"
      ],
      "metadata": {
        "id": "tiS0hmkYd2W_",
        "outputId": "18d8e268-2e3b-4abb-cad6-7f3402e84731",
        "colab": {
          "base_uri": "https://localhost:8080/"
        }
      },
      "execution_count": 5,
      "outputs": [
        {
          "output_type": "stream",
          "name": "stdout",
          "text": [
            "hello\n",
            "ehllo\n"
          ]
        }
      ]
    },
    {
      "cell_type": "markdown",
      "source": [
        "Question 4: Create a function that accepts the principal p, the term in years t, the interest rate r, and the\n",
        "number of compounding periods per year n. The function returns the value at the end of term\n",
        "rounded to the nearest cent."
      ],
      "metadata": {
        "id": "BsxYbFTve3KE"
      }
    },
    {
      "cell_type": "code",
      "source": [
        "def intrst(p,n,r):\n",
        "  return (p*(1+(r/100))**n)-p\n",
        "n,p,r = list(map(int, input().split()))[:3]\n",
        "print(intrst(p,n,r))\n"
      ],
      "metadata": {
        "id": "vnubOu01eg_v",
        "outputId": "796bdc57-f7d8-42c1-f7f5-c7b090b03328",
        "colab": {
          "base_uri": "https://localhost:8080/"
        }
      },
      "execution_count": 9,
      "outputs": [
        {
          "output_type": "stream",
          "name": "stdout",
          "text": [
            "10 1000 5\n",
            "628.894626777442\n"
          ]
        }
      ]
    },
    {
      "cell_type": "markdown",
      "source": [
        "Question 5: Write a function that takes a list of elements and returns only the integers."
      ],
      "metadata": {
        "id": "66Qfxn-Hg72Y"
      }
    },
    {
      "cell_type": "code",
      "source": [
        "def mani(s):\n",
        "  lst = []\n",
        "  for i in s:\n",
        "    if(type(i)==int):\n",
        "      lst.append(i)\n",
        "  return lst\n",
        "s = ['a', 'b', 'c', 'd', 1, 2,3,4,]\n",
        "print(mani(s))"
      ],
      "metadata": {
        "id": "BjwLTvLDf6Yw"
      },
      "execution_count": null,
      "outputs": []
    }
  ],
  "metadata": {
    "colab": {
      "collapsed_sections": [],
      "name": "Welcome To Colaboratory",
      "toc_visible": true,
      "provenance": [],
      "include_colab_link": true
    },
    "kernelspec": {
      "display_name": "Python 3",
      "name": "python3"
    }
  },
  "nbformat": 4,
  "nbformat_minor": 0
}