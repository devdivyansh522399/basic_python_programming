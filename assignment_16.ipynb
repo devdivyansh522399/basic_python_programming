{
  "cells": [
    {
      "cell_type": "markdown",
      "metadata": {
        "id": "view-in-github",
        "colab_type": "text"
      },
      "source": [
        "<a href=\"https://colab.research.google.com/github/devdivyansh522399/basic_python_programming/blob/main/assignment_16.ipynb\" target=\"_parent\"><img src=\"https://colab.research.google.com/assets/colab-badge.svg\" alt=\"Open In Colab\"/></a>"
      ]
    },
    {
      "cell_type": "markdown",
      "source": [
        "Question 1: Write a function that stutters a word as if someone is struggling to read it. The\n",
        "first two letters are repeated twice with an ellipsis ... and space after each, and then the\n",
        "word is pronounced with a question mark ?."
      ],
      "metadata": {
        "id": "Y8vlZMxFwEpE"
      }
    },
    {
      "cell_type": "code",
      "source": [
        "s = input(\"Enter the word : \")\n",
        "def sutter(s):\n",
        "  st= s[0:2]+'...'+s[0:2]+'...'+s\n",
        "  print(st)\n",
        "print(sutter(s))\n"
      ],
      "metadata": {
        "id": "wl9PT7KcwIoS",
        "outputId": "3c2a6c05-4d8e-482f-ae7d-02a82b051d77",
        "colab": {
          "base_uri": "https://localhost:8080/"
        }
      },
      "execution_count": 6,
      "outputs": [
        {
          "output_type": "stream",
          "name": "stdout",
          "text": [
            "Enter the word : 12\n",
            "12...12...12\n",
            "None\n"
          ]
        }
      ]
    },
    {
      "cell_type": "markdown",
      "source": [
        "Question 2: 2.Create a function that takes an angle in radians and returns the corresponding\n",
        "angle in degrees rounded to one decimal place."
      ],
      "metadata": {
        "id": "VcB8Ifg_w0Oj"
      }
    },
    {
      "cell_type": "code",
      "source": [
        "def rd(deg):\n",
        "  return deg*57.296\n",
        "angle = float(input())\n",
        "print(round(rd(angle),1))"
      ],
      "metadata": {
        "id": "165XWK-3wr3_",
        "outputId": "7e867fa4-79ea-4114-96e4-7244e99105c1",
        "colab": {
          "base_uri": "https://localhost:8080/"
        }
      },
      "execution_count": 5,
      "outputs": [
        {
          "output_type": "stream",
          "name": "stdout",
          "text": [
            "10\n",
            "573.0\n"
          ]
        }
      ]
    },
    {
      "cell_type": "markdown",
      "source": [
        "Question 3: In this challenge, establish if a given integer num is a Curzon number. If 1 plus\n",
        "2 elevated to num is exactly divisible by 1 plus 2 multiplied by num, then num is a Curzon\n",
        "number.\n",
        "Given a non-negative integer num, implement a function that returns True if num is a Curzon\n",
        "number, or False otherwise."
      ],
      "metadata": {
        "id": "ybuLqZaryiq_"
      }
    },
    {
      "cell_type": "code",
      "source": [
        "def curzon(num):\n",
        "  if((num**2)+1)/(num*2)+1:\n",
        "    return True\n",
        "  else:\n",
        "    return False\n",
        "num = int(input())\n",
        "print(curzon(num))"
      ],
      "metadata": {
        "id": "mmYMSni6xuBH",
        "outputId": "6d7c6bfd-a268-4795-8319-0a9a199e995e",
        "colab": {
          "base_uri": "https://localhost:8080/"
        }
      },
      "execution_count": 7,
      "outputs": [
        {
          "output_type": "stream",
          "name": "stdout",
          "text": [
            "56\n",
            "True\n"
          ]
        }
      ]
    },
    {
      "cell_type": "markdown",
      "source": [
        "Question 4: Question 4.Given the side length x find the area of a hexagon."
      ],
      "metadata": {
        "id": "rqqwIU-mzS-8"
      }
    },
    {
      "cell_type": "code",
      "source": [
        "def area(s):\n",
        "  return (3*(3**(1/2)*s*s))/2\n",
        "num = int(input())\n",
        "print(area(num))"
      ],
      "metadata": {
        "id": "Q21ScFdGzQQn",
        "outputId": "3154881a-3e7a-427e-c28d-1951ed0d3747",
        "colab": {
          "base_uri": "https://localhost:8080/"
        }
      },
      "execution_count": 8,
      "outputs": [
        {
          "output_type": "stream",
          "name": "stdout",
          "text": [
            "1\n",
            "2.598076211353316\n"
          ]
        }
      ]
    }
  ],
  "metadata": {
    "colab": {
      "collapsed_sections": [],
      "name": "Welcome To Colaboratory",
      "toc_visible": true,
      "provenance": [],
      "include_colab_link": true
    },
    "kernelspec": {
      "display_name": "Python 3",
      "name": "python3"
    }
  },
  "nbformat": 4,
  "nbformat_minor": 0
}