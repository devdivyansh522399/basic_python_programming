{
  "cells": [
    {
      "cell_type": "markdown",
      "metadata": {
        "id": "view-in-github",
        "colab_type": "text"
      },
      "source": [
        "<a href=\"https://colab.research.google.com/github/devdivyansh522399/python_basic_programming/blob/main/assignment_06.ipynb\" target=\"_parent\"><img src=\"https://colab.research.google.com/assets/colab-badge.svg\" alt=\"Open In Colab\"/></a>"
      ]
    },
    {
      "cell_type": "markdown",
      "source": [
        "Question 1: Write a Python Program to Display Fibonacci Sequence Using Recursion?"
      ],
      "metadata": {
        "id": "H1EqJmuyk9Ee"
      }
    },
    {
      "cell_type": "code",
      "source": [
        "def fibonacci(n):\n",
        "  if n <= 1:\n",
        "       return n\n",
        "  else:\n",
        "       return(fibonacci(n-1) + fibonacci(n-2))\n",
        "n = int(input(\"Enter number : \"))\n",
        "if(n<1):\n",
        "  print(\"please enter a valid number\")\n",
        "else:\n",
        "  print(\"fibonacci series : \")\n",
        "  for i in range(n):\n",
        "    print(fibonacci(i), end= \" \")\n"
      ],
      "metadata": {
        "id": "iGdlscSvlF0H",
        "outputId": "1c54e78d-6f71-4e05-a6ea-d1b9c11081e1",
        "colab": {
          "base_uri": "https://localhost:8080/"
        }
      },
      "execution_count": 3,
      "outputs": [
        {
          "output_type": "stream",
          "name": "stdout",
          "text": [
            "Enter number : 10\n",
            "fibonacci series : \n",
            "0 1 1 2 3 5 8 13 21 34 "
          ]
        }
      ]
    },
    {
      "cell_type": "markdown",
      "source": [
        "Question 2: Write a Python Program to Find Factorial of Number Using Recursion?"
      ],
      "metadata": {
        "id": "Q3LtgmD3nGy0"
      }
    },
    {
      "cell_type": "code",
      "source": [
        "def fact(n):\n",
        "  if(n==1):\n",
        "    return 1\n",
        "  else:\n",
        "    return n*fact(n-1)\n",
        "n = int(input(\"Enter the number: \"))\n",
        "if(n<1):\n",
        "  print(\"Enter a valid number\")\n",
        "else:\n",
        "  print(\"factorial of {} is {}\" .format(n, fact(n)))\n"
      ],
      "metadata": {
        "id": "PozJWecPmi23",
        "outputId": "e7bb8594-e9a7-477e-c8fa-506b11767981",
        "colab": {
          "base_uri": "https://localhost:8080/"
        }
      },
      "execution_count": 5,
      "outputs": [
        {
          "output_type": "stream",
          "name": "stdout",
          "text": [
            "Enter the number: 5\n",
            "factorial of 5 is 120\n"
          ]
        }
      ]
    },
    {
      "cell_type": "markdown",
      "source": [
        "Question 3: Write a Python Program to calculate your Body Mass Index?"
      ],
      "metadata": {
        "id": "P07r3xhjosYs"
      }
    },
    {
      "cell_type": "code",
      "source": [
        "n = float(input(\"Enter the weight : \"))\n",
        "m = float(input(\"Enter the height in cm : \"))\n",
        "print(\"BMI is {}\".format(n/(m/100)**2))"
      ],
      "metadata": {
        "id": "_dhIK-HCoYUj",
        "outputId": "1a3d482d-1794-4a82-92c4-951c83236f13",
        "colab": {
          "base_uri": "https://localhost:8080/"
        }
      },
      "execution_count": 6,
      "outputs": [
        {
          "output_type": "stream",
          "name": "stdout",
          "text": [
            "Enter the weight : 52\n",
            "Enter the height in cm : 175\n",
            "BMI is 16.979591836734695\n"
          ]
        }
      ]
    },
    {
      "cell_type": "markdown",
      "source": [
        "Question 4:Write a Python Program to calculate the natural logarithm of any number?"
      ],
      "metadata": {
        "id": "J0qaywilqeeO"
      }
    },
    {
      "cell_type": "code",
      "source": [
        "import math\n",
        "n = int(input(\"Enter Number : \"))\n",
        "print(math.log(n))"
      ],
      "metadata": {
        "id": "kHkGmPThqQdb",
        "outputId": "41f0c5eb-f6c0-4ba2-e16d-f2d17e6faa7f",
        "colab": {
          "base_uri": "https://localhost:8080/"
        }
      },
      "execution_count": 8,
      "outputs": [
        {
          "output_type": "stream",
          "name": "stdout",
          "text": [
            "Enter Number : 2\n",
            "0.6931471805599453\n"
          ]
        }
      ]
    },
    {
      "cell_type": "markdown",
      "source": [
        "Question 5: Write a Python Program for cube sum of first n natural numbers?"
      ],
      "metadata": {
        "id": "MyD7yhtYrEnh"
      }
    },
    {
      "cell_type": "code",
      "source": [
        "n = int(input())\n",
        "sum = 0\n",
        "for i in range(1,n+1):\n",
        "  sum = sum + i**3\n",
        "print(sum)"
      ],
      "metadata": {
        "id": "ESmskKeCq_dx",
        "outputId": "34309ffe-3ed7-41f3-daec-17f1beb4c19b",
        "colab": {
          "base_uri": "https://localhost:8080/"
        }
      },
      "execution_count": 10,
      "outputs": [
        {
          "output_type": "stream",
          "name": "stdout",
          "text": [
            "5\n",
            "225\n"
          ]
        }
      ]
    },
    {
      "cell_type": "code",
      "source": [
        ""
      ],
      "metadata": {
        "id": "Crp4NBlyra3l"
      },
      "execution_count": null,
      "outputs": []
    }
  ],
  "metadata": {
    "colab": {
      "collapsed_sections": [],
      "name": "Welcome To Colaboratory",
      "provenance": [],
      "include_colab_link": true
    },
    "kernelspec": {
      "display_name": "Python 3",
      "name": "python3"
    }
  },
  "nbformat": 4,
  "nbformat_minor": 0
}