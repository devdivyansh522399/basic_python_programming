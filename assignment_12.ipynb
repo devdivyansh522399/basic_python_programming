{
  "cells": [
    {
      "cell_type": "markdown",
      "metadata": {
        "id": "view-in-github",
        "colab_type": "text"
      },
      "source": [
        "<a href=\"https://colab.research.google.com/github/devdivyansh522399/python_basic_programming/blob/main/assignment_12.ipynb\" target=\"_parent\"><img src=\"https://colab.research.google.com/assets/colab-badge.svg\" alt=\"Open In Colab\"/></a>"
      ]
    },
    {
      "cell_type": "markdown",
      "source": [
        "Question 1: Write a program to extract unique values dictionary?"
      ],
      "metadata": {
        "id": "SGcBFKlMkLNN"
      }
    },
    {
      "cell_type": "code",
      "source": [
        "n = int(input(\"Enter the number of keys \"))\n",
        "my_dict = {}\n",
        "for i in range(n):\n",
        "  temp = (input(\"Key \"))\n",
        "  temp2 = int(input(\"value \"))\n",
        "  my_dict[temp] = temp2\n",
        "res = list(sorted({val for val in my_dict.values()}))\n",
        "print(\"Unique value in dictionary : \",res)"
      ],
      "metadata": {
        "id": "1PV6wUJxkUfy",
        "outputId": "7dbc61e1-3753-4c63-cbfc-0a634d3e9a6c",
        "colab": {
          "base_uri": "https://localhost:8080/"
        }
      },
      "execution_count": 6,
      "outputs": [
        {
          "output_type": "stream",
          "name": "stdout",
          "text": [
            "Enter the number of keys 5\n",
            "Key A\n",
            "value 1\n",
            "Key \n",
            "value 1\n",
            "Key C\n",
            "value 3\n",
            "Key D\n",
            "value 3\n",
            "Key E\n",
            "value 5\n",
            "Unique value in dictionary :  [1, 3, 5]\n"
          ]
        }
      ]
    },
    {
      "cell_type": "markdown",
      "source": [
        "Quesion 2: WAP to find the sum of all items in dictionary?"
      ],
      "metadata": {
        "id": "uEVqxpjDnEDA"
      }
    },
    {
      "cell_type": "code",
      "source": [
        "n = int(input(\"Enter the number of keys \"))\n",
        "my_dict = {}\n",
        "sum=0\n",
        "for i in range(n):\n",
        "  temp = (input(\"Key \"))\n",
        "  temp2 = int(input(\"value \"))\n",
        "  sum = sum+temp2\n",
        "  my_dict[temp] = temp2\n",
        "print(my_dict)\n",
        "print(\"Sum of values : \",sum)"
      ],
      "metadata": {
        "id": "dIwI7kJUl-5v",
        "outputId": "29a544f2-05f2-4db5-8ad9-a66297c50126",
        "colab": {
          "base_uri": "https://localhost:8080/"
        }
      },
      "execution_count": 9,
      "outputs": [
        {
          "output_type": "stream",
          "name": "stdout",
          "text": [
            "Enter the number of keys 5\n",
            "Key A\n",
            "value 1\n",
            "Key B\n",
            "value 2\n",
            "Key C\n",
            "value 3\n",
            "Key D\n",
            "value 4\n",
            "Key E\n",
            "value 5\n",
            "{'A': 1, 'B': 2, 'C': 3, 'D': 4, 'E': 5}\n",
            "Sum of values :  15\n"
          ]
        }
      ]
    },
    {
      "cell_type": "markdown",
      "source": [
        ""
      ],
      "metadata": {
        "id": "EB4jrCwtoO5-"
      }
    },
    {
      "cell_type": "code",
      "source": [
        "def Merge(dict1, dict2):\n",
        "    return(dict2.update(dict1))\n",
        "n = int(input(\"Enter the number of keys \"))\n",
        "my_dict = {}\n",
        "for i in range(n):\n",
        "  temp = (input(\"Key \"))\n",
        "  temp2 = int(input(\"value \"))\n",
        "  my_dict[temp] = temp2\n",
        "m = int(input(\"Enter the number of keys \"))\n",
        "my_dict2 = {}\n",
        "for i in range(m):\n",
        "  temp = (input(\"Key \"))\n",
        "  temp2 = int(input(\"value \"))\n",
        "  my_dict2[temp] = temp2\n",
        "Merge(my_dict,my_dict2)\n",
        "print(\"Before merging : \")\n",
        "print(my_dict)\n",
        "print(\"After merging : \")\n",
        "print(my_dict2)"
      ],
      "metadata": {
        "id": "jfWxdt0en_ta",
        "outputId": "24e5440e-919b-462d-8cd4-22eb22b969c4",
        "colab": {
          "base_uri": "https://localhost:8080/"
        }
      },
      "execution_count": 12,
      "outputs": [
        {
          "output_type": "stream",
          "name": "stdout",
          "text": [
            "Enter the number of keys 3\n",
            "Key A\n",
            "value 1\n",
            "Key B\n",
            "value 2\n",
            "Key \n",
            "value 3\n",
            "Enter the number of keys 3\n",
            "Key D\n",
            "value 4\n",
            "Key E\n",
            "value 5\n",
            "Key F\n",
            "value 6\n",
            "Before merging : \n",
            "{'A': 1, 'B': 2, '': 3}\n",
            "{'D': 4, 'E': 5, 'F': 6, 'A': 1, 'B': 2, '': 3}\n",
            "After merging : \n",
            "None\n"
          ]
        }
      ]
    },
    {
      "cell_type": "markdown",
      "source": [
        "  Question 4: WAP to insertion at beginging in orderdict."
      ],
      "metadata": {
        "id": "eWpUbNBBqifx"
      }
    },
    {
      "cell_type": "code",
      "source": [
        "n = int(input(\"Enter the number of keys \"))\n",
        "my_dickt = {}\n",
        "for i in range(n):\n",
        "  temp = (input(\"Key \"))\n",
        "  temp2 = int(input(\"value \"))\n",
        "  my_dickt[temp] = temp2\n",
        "print(\"Enter the key and value to be inserted : \")\n",
        "dic = {}\n",
        "temp = (input(\"Key \"))\n",
        "temp2 = int(input(\"value \"))\n",
        "dic[temp] = temp2\n",
        "def Merge(dict1, dict2):\n",
        "    return(dict2.update(dict1))\n",
        "Merge(my_dickt, dic)\n",
        "print(dic)"
      ],
      "metadata": {
        "id": "DDHy46QcqzAd",
        "outputId": "f0923b98-aeaf-41d0-a240-ddea749efde5",
        "colab": {
          "base_uri": "https://localhost:8080/"
        }
      },
      "execution_count": 14,
      "outputs": [
        {
          "output_type": "stream",
          "name": "stdout",
          "text": [
            "Enter the number of keys 5\n",
            "Key A\n",
            "value 1\n",
            "Key B\n",
            "value 2\n",
            "Key C\n",
            "value 3\n",
            "Key D\n",
            "value 4\n",
            "Key E\n",
            "value 5\n",
            "Enter the key and value to be inserted : \n",
            "Key F\n",
            "value 6\n",
            "{'F': 6, 'A': 1, 'B': 2, 'C': 3, 'D': 4, 'E': 5}\n"
          ]
        }
      ]
    },
    {
      "cell_type": "markdown",
      "source": [
        "Question 5: WAP to sort the python dictionary by key or value."
      ],
      "metadata": {
        "id": "U8vVphvzxveL"
      }
    },
    {
      "cell_type": "code",
      "source": [
        "n = int(input(\"Enter the number of keys \"))\n",
        "my_dict = {}\n",
        "for i in range(n):\n",
        "  temp = (input(\"Key \"))\n",
        "  temp2 = int(input(\"value \"))\n",
        "  my_dict[temp] = temp2\n",
        "print (\"Task 1:-\\n\")\n",
        "print (\"Keys are\")\n",
        "for i in sorted(my_dict.keys()):\n",
        "     print(i, end = \" \")"
      ],
      "metadata": {
        "id": "ifmBaCC4x6bf",
        "outputId": "cc1c7ed7-7bd5-49e9-a42f-51591fb0f2e3",
        "colab": {
          "base_uri": "https://localhost:8080/"
        }
      },
      "execution_count": 22,
      "outputs": [
        {
          "output_type": "stream",
          "name": "stdout",
          "text": [
            "Enter the number of keys 3\n",
            "Key C\n",
            "value 1\n",
            "Key B\n",
            "value 2\n",
            "Key A\n",
            "value 3\n",
            "Task 1:-\n",
            "\n",
            "Keys are\n",
            "A B C "
          ]
        }
      ]
    },
    {
      "cell_type": "code",
      "source": [
        ""
      ],
      "metadata": {
        "id": "fT50AuXVyZKG"
      },
      "execution_count": null,
      "outputs": []
    }
  ],
  "metadata": {
    "colab": {
      "collapsed_sections": [],
      "name": "Welcome To Colaboratory",
      "toc_visible": true,
      "provenance": [],
      "include_colab_link": true
    },
    "kernelspec": {
      "display_name": "Python 3",
      "name": "python3"
    }
  },
  "nbformat": 4,
  "nbformat_minor": 0
}