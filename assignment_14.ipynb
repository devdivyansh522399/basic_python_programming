{
  "cells": [
    {
      "cell_type": "markdown",
      "metadata": {
        "id": "view-in-github",
        "colab_type": "text"
      },
      "source": [
        "<a href=\"https://colab.research.google.com/github/devdivyansh522399/basic_python_programming/blob/main/assignment_14.ipynb\" target=\"_parent\"><img src=\"https://colab.research.google.com/assets/colab-badge.svg\" alt=\"Open In Colab\"/></a>"
      ]
    },
    {
      "cell_type": "markdown",
      "source": [
        "Question 1: Define a class with a generator which can iterate the numbers, which are divisible by\n",
        "7, between a given range 0 and n."
      ],
      "metadata": {
        "id": "KXZnVLZvOzNv"
      }
    },
    {
      "cell_type": "code",
      "source": [
        "class df:\n",
        "  def _init__(self):\n",
        "    pass\n",
        "  def intr(self, count):\n",
        "    for i in range(count):\n",
        "      if(i%7==0):\n",
        "        print(i)\n",
        "ab = df()\n",
        "ab.intr(50)"
      ],
      "metadata": {
        "id": "hp1mUJklO3Jy",
        "outputId": "07073f3e-8e5e-4790-ddcd-8d1778fcbb6b",
        "colab": {
          "base_uri": "https://localhost:8080/"
        }
      },
      "execution_count": null,
      "outputs": [
        {
          "output_type": "stream",
          "name": "stdout",
          "text": [
            "0\n",
            "7\n",
            "14\n",
            "21\n",
            "28\n",
            "35\n",
            "42\n",
            "49\n"
          ]
        }
      ]
    },
    {
      "cell_type": "markdown",
      "source": [
        "Question 2: Write a program to compute the frequency of the words from the input. The output\n",
        "should output after sorting the key alphanumerically."
      ],
      "metadata": {
        "id": "V-F-IHY1RD_1"
      }
    },
    {
      "cell_type": "code",
      "source": [
        "string = input(\"Enter the string : \")\n",
        "lst = string.split()\n",
        "df = {}\n",
        "for i in lst:\n",
        "  j = 1\n",
        "  if i not in df.keys():\n",
        "    df[i] = j\n",
        "  else:\n",
        "    j+=1\n",
        "    df[i] = j\n",
        "for i in df.keys():\n",
        "  print((str(i) + \" : \"+ str(df[i])))\n",
        "  \n",
        "\n"
      ],
      "metadata": {
        "id": "6-p9MNHeQ9-w",
        "outputId": "048823fc-a286-440d-ec31-c9b483c6898c",
        "colab": {
          "base_uri": "https://localhost:8080/"
        }
      },
      "execution_count": null,
      "outputs": [
        {
          "output_type": "stream",
          "name": "stdout",
          "text": [
            "Enter the string : New to Python or choosing between Python 2 and Python 3? Read Python 2 or Python 3.\n",
            "New : 1\n",
            "to : 1\n",
            "Python : 2\n",
            "or : 2\n",
            "choosing : 1\n",
            "between : 1\n",
            "2 : 2\n",
            "and : 1\n",
            "3? : 1\n",
            "Read : 1\n",
            "3. : 1\n"
          ]
        }
      ]
    },
    {
      "cell_type": "markdown",
      "source": [
        "Question 3: Define a class Person and its two child classes: Male and Female. All classes have a\n",
        "method \"getGender\" which can print \"Male\" for Male class and \"Female\" for Female\n",
        "class."
      ],
      "metadata": {
        "id": "FuPQUyXBWB3s"
      }
    },
    {
      "cell_type": "code",
      "source": [
        "class human:\n",
        "  def __init__(self, name, age):\n",
        "    self.name = name\n",
        "    self.age = age\n",
        "\n",
        "  def getName(self):\n",
        "    print(self.name)\n",
        "\n",
        "class Female(human):\n",
        "  def __init__(self, height):\n",
        "    self.height = height\n",
        "  \n",
        "  def getGender(self):\n",
        "    print(\"Gender is Female\")\n",
        "\n",
        "class Male(human):\n",
        "  def __init__(self, height):\n",
        "    self.height = height\n",
        "  \n",
        "  def getGender(self):\n",
        "    print(\"Gender is  Male\")\n",
        "\n",
        "ram = Male(159)\n",
        "ram.getGender()\n",
        "\n",
        "Ria = Female(109)\n",
        "Ria.getGender()\n",
        "\n"
      ],
      "metadata": {
        "id": "r3YNPNQKTNPE",
        "outputId": "57ab7883-988a-4beb-e72d-747332b9c1a2",
        "colab": {
          "base_uri": "https://localhost:8080/"
        }
      },
      "execution_count": null,
      "outputs": [
        {
          "output_type": "stream",
          "name": "stdout",
          "text": [
            "Gender is  Male\n",
            "Gender is Female\n"
          ]
        }
      ]
    },
    {
      "cell_type": "markdown",
      "source": [
        "Question 4: Please write a program to generate all sentences where subject is in [I, You]  and\n",
        "verb is in [Love, Play] and the object is in [Hockey, Football]."
      ],
      "metadata": {
        "id": "CgzslA73VwR7"
      }
    },
    {
      "cell_type": "code",
      "source": [
        "lst1 = ['I', 'You']\n",
        "lst2 = ['Love', 'Play']\n",
        "lst3 = ['Hockey', 'Football']\n",
        "for i in lst1:\n",
        "  for j in lst2:\n",
        "    for k in lst3:\n",
        "      print(i+\" \"+j+\" \"+k)"
      ],
      "metadata": {
        "id": "FtdNYDSwZXBm",
        "outputId": "fcc256e1-bd1c-48e7-ec72-6ff2520cbe2b",
        "colab": {
          "base_uri": "https://localhost:8080/"
        }
      },
      "execution_count": null,
      "outputs": [
        {
          "output_type": "stream",
          "name": "stdout",
          "text": [
            "I Love Hockey\n",
            "I Love Football\n",
            "I Play Hockey\n",
            "I Play Football\n",
            "You Love Hockey\n",
            "You Love Football\n",
            "You Play Hockey\n",
            "You Play Football\n"
          ]
        }
      ]
    },
    {
      "cell_type": "markdown",
      "source": [
        "Question 5:"
      ],
      "metadata": {
        "id": "ql6TqnU4bS_k"
      }
    }
  ],
  "metadata": {
    "colab": {
      "collapsed_sections": [],
      "name": "Welcome To Colaboratory",
      "toc_visible": true,
      "provenance": [],
      "include_colab_link": true
    },
    "kernelspec": {
      "display_name": "Python 3",
      "name": "python3"
    }
  },
  "nbformat": 4,
  "nbformat_minor": 0
}