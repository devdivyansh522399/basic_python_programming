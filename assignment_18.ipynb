{
  "cells": [
    {
      "cell_type": "markdown",
      "metadata": {
        "id": "view-in-github",
        "colab_type": "text"
      },
      "source": [
        "<a href=\"https://colab.research.google.com/github/devdivyansh522399/basic_python_programming/blob/main/assignment_18.ipynb\" target=\"_parent\"><img src=\"https://colab.research.google.com/assets/colab-badge.svg\" alt=\"Open In Colab\"/></a>"
      ]
    },
    {
      "cell_type": "markdown",
      "source": [
        "Question 1: Create a function that takes a list of non-negative integers and strings and return a new list\n",
        "without the strings."
      ],
      "metadata": {
        "id": "aquJ2L8o0KSB"
      }
    },
    {
      "cell_type": "code",
      "source": [
        "def filter_list(lst):\n",
        "  l =[]\n",
        "  for i in lst:\n",
        "    if(type(i)==int):\n",
        "      if(i>=0):\n",
        "        l.append(i)\n",
        "  return l\n",
        "l = [1, 2, 3, 'a', True, -1. -23]\n",
        "print(filter_list(l))"
      ],
      "metadata": {
        "colab": {
          "base_uri": "https://localhost:8080/"
        },
        "id": "Wynzx1Ma0fQT",
        "outputId": "8b6ece70-8469-487a-a708-77106d90860a"
      },
      "execution_count": 26,
      "outputs": [
        {
          "output_type": "stream",
          "name": "stdout",
          "text": [
            "[1, 2, 3]\n"
          ]
        }
      ]
    },
    {
      "cell_type": "markdown",
      "source": [
        "Question 2: The &quot;Reverser&quot; takes a string as input and returns that string in reverse order, with the\n",
        "opposite case."
      ],
      "metadata": {
        "id": "lIdp_IS-3OKy"
      }
    },
    {
      "cell_type": "code",
      "source": [
        "def reverse(s):\n",
        "  st = ''\n",
        "  n = len(s)\n",
        "  st = s[::-1].swapcase()\n",
        "  return st\n",
        "s = input()\n",
        "print(reverse(s))\n",
        "    "
      ],
      "metadata": {
        "colab": {
          "base_uri": "https://localhost:8080/"
        },
        "id": "VpK04N081g6X",
        "outputId": "af83ee64-e387-430a-c061-8bdd4f7395dc"
      },
      "execution_count": 27,
      "outputs": [
        {
          "output_type": "stream",
          "name": "stdout",
          "text": [
            "3 4 5 6\n",
            "6 5 4 3\n"
          ]
        }
      ]
    },
    {
      "cell_type": "markdown",
      "source": [
        "Question 4: Write a function that calculates the factorial of a number recursively."
      ],
      "metadata": {
        "id": "t8hEKYJIAmR3"
      }
    },
    {
      "cell_type": "code",
      "source": [
        "def fact(n):\n",
        "  if(n==1 or n==0):\n",
        "    return 1\n",
        "  else:\n",
        "    return n*fact(n-1)\n",
        "n = int(input(\"Enter the number : \"))\n",
        "print(\"Factorial is : \", fact(n))"
      ],
      "metadata": {
        "colab": {
          "base_uri": "https://localhost:8080/"
        },
        "id": "qBxonTew5l93",
        "outputId": "67a080fe-bf14-45ed-9278-f975846897c7"
      },
      "execution_count": 28,
      "outputs": [
        {
          "output_type": "stream",
          "name": "stdout",
          "text": [
            "Enter the number : 4\n",
            "Factorial is :  24\n"
          ]
        }
      ]
    },
    {
      "cell_type": "markdown",
      "source": [
        "Question 5: Create a function that computes the hamming distance between two strings."
      ],
      "metadata": {
        "id": "riFq9dapBGcB"
      }
    },
    {
      "cell_type": "code",
      "source": [
        "test_list = list(map(int, input().split()))[:10]\n",
        "print (\"The original list is : \" + str(test_list))\n",
        "test_list.append(test_list.pop(test_list.index(5)))\n",
        "print (\"The modified element moved list is : \" + str(test_list))\n"
      ],
      "metadata": {
        "colab": {
          "base_uri": "https://localhost:8080/"
        },
        "id": "OTD33JDfBEIz",
        "outputId": "a638140c-261c-4221-ed22-3469a932fb4e"
      },
      "execution_count": 25,
      "outputs": [
        {
          "output_type": "stream",
          "name": "stdout",
          "text": [
            "3 4 5 6 7 8\n",
            "The original list is : [3, 4, 5, 6, 7, 8]\n",
            "The modified element moved list is : [3, 4, 6, 7, 8, 5]\n"
          ]
        }
      ]
    }
  ],
  "metadata": {
    "colab": {
      "collapsed_sections": [],
      "name": "Welcome To Colaboratory",
      "toc_visible": true,
      "provenance": [],
      "include_colab_link": true
    },
    "kernelspec": {
      "display_name": "Python 3",
      "name": "python3"
    }
  },
  "nbformat": 4,
  "nbformat_minor": 0
}