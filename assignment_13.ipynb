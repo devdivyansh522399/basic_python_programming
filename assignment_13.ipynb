{
  "cells": [
    {
      "cell_type": "markdown",
      "metadata": {
        "id": "view-in-github",
        "colab_type": "text"
      },
      "source": [
        "<a href=\"https://colab.research.google.com/github/devdivyansh522399/basic_python_programming/blob/main/assignment_13.ipynb\" target=\"_parent\"><img src=\"https://colab.research.google.com/assets/colab-badge.svg\" alt=\"Open In Colab\"/></a>"
      ]
    },
    {
      "cell_type": "markdown",
      "source": [
        "Question 1: Write a program that calculates and prints the value according to the given formula:"
      ],
      "metadata": {
        "id": "U1biIo2txr7p"
      }
    },
    {
      "cell_type": "code",
      "source": [
        "c = 50\n",
        "h = 30\n",
        "d = list(map(int, input().split(',')))[:3]\n",
        "for i in d:\n",
        "  print(int(((2*c*i)/h)**0.5))"
      ],
      "metadata": {
        "id": "Mgn46dBPxwEg",
        "outputId": "f6067819-a188-4c73-98ea-bd1b37b93d88",
        "colab": {
          "base_uri": "https://localhost:8080/"
        }
      },
      "execution_count": null,
      "outputs": [
        {
          "output_type": "stream",
          "name": "stdout",
          "text": [
            "100,150,180\n",
            "18\n",
            "22\n",
            "24\n"
          ]
        }
      ]
    },
    {
      "cell_type": "markdown",
      "source": [
        "Question 2: Write a program which takes 2 digits, X,Y as input and generates a 2-dimensional array. The\n",
        "element value in the i-th row and j-th column of the array should be i*j."
      ],
      "metadata": {
        "id": "ULdy5Q5_zb9P"
      }
    },
    {
      "cell_type": "code",
      "source": [
        "m, n = map(int, input().split())\n",
        "arr = []\n",
        "for i in range(m):\n",
        "  lst = []\n",
        "  for j in range(n):\n",
        "    lst.append(i*j)\n",
        "  arr.append(lst)\n",
        "print(arr)"
      ],
      "metadata": {
        "id": "kYe3YbkBzfz4",
        "outputId": "58294a43-b678-4f06-8314-0221e0780304",
        "colab": {
          "base_uri": "https://localhost:8080/"
        }
      },
      "execution_count": null,
      "outputs": [
        {
          "output_type": "stream",
          "name": "stdout",
          "text": [
            "4 5\n",
            "[[0, 0, 0, 0, 0], [0, 1, 2, 3, 4], [0, 2, 4, 6, 8], [0, 3, 6, 9, 12]]\n"
          ]
        }
      ]
    },
    {
      "cell_type": "markdown",
      "source": [
        "Question 3: Write a program that accepts a comma separated sequence of words as input and prints the\n",
        "words in a comma-separated sequence after sorting them alphabetically."
      ],
      "metadata": {
        "id": "OTzKGG6-0kic"
      }
    },
    {
      "cell_type": "code",
      "source": [
        "my_str = input(\"Enter a string: \")   \n",
        "words = my_str.split()    \n",
        "words.sort()  \n",
        "for word in words:  \n",
        "   print(word, end=\",\")  "
      ],
      "metadata": {
        "id": "Pma1XYSvzr56",
        "outputId": "1d914a0d-940c-4888-a259-92495fa6f7ac",
        "colab": {
          "base_uri": "https://localhost:8080/"
        }
      },
      "execution_count": null,
      "outputs": [
        {
          "output_type": "stream",
          "name": "stdout",
          "text": [
            "Enter a string: hello my name is divyansh dev\n",
            "dev,divyansh,hello,is,my,name,"
          ]
        }
      ]
    },
    {
      "cell_type": "markdown",
      "source": [
        "Question 4: Write a program that accepts a sequence of whitespace separated words as input and prints\n",
        "the words after removing all duplicate words and sorting them alphanumerically."
      ],
      "metadata": {
        "id": "mV1-9sr41T8z"
      }
    },
    {
      "cell_type": "code",
      "source": [
        "my_str = input(\"Enter a string: \")   \n",
        "words = my_str.split()    \n",
        "words.sort()  \n",
        "lst = []\n",
        "for word in words:  \n",
        "   if word not in lst:\n",
        "      lst.append(word)\n",
        "print(str(lst))"
      ],
      "metadata": {
        "id": "_R3K8wL81Dta",
        "outputId": "e854d940-d16b-4a0c-83ee-74c100f3fc18",
        "colab": {
          "base_uri": "https://localhost:8080/"
        }
      },
      "execution_count": null,
      "outputs": [
        {
          "output_type": "stream",
          "name": "stdout",
          "text": [
            "Enter a string: hello world and practice makes perfect and hello world again\n",
            "['again', 'and', 'hello', 'makes', 'perfect', 'practice', 'world']\n"
          ]
        }
      ]
    },
    {
      "cell_type": "markdown",
      "source": [
        "Question 5: Write a program that accepts a sentence and calculate the number of letters and digits."
      ],
      "metadata": {
        "id": "XHBCvCg_2Rtf"
      }
    },
    {
      "cell_type": "code",
      "source": [
        "string = input(\"Please Enter your Own String : \")\n",
        "alphabets = digits = special = 0\n",
        "\n",
        "for i in range(len(string)):\n",
        "    if(string[i].isalpha()):\n",
        "        alphabets = alphabets + 1\n",
        "    elif(string[i].isdigit()):\n",
        "        digits = digits + 1\n",
        "    else:\n",
        "        special = special + 1\n",
        "print(\"Alphabet :\", alphabets)\n",
        "print(\"digits :\", digits)"
      ],
      "metadata": {
        "id": "tSsDTiVi2A1m",
        "outputId": "21f8c2d4-c896-4b05-95e1-b95023817ee5",
        "colab": {
          "base_uri": "https://localhost:8080/"
        }
      },
      "execution_count": null,
      "outputs": [
        {
          "output_type": "stream",
          "name": "stdout",
          "text": [
            "Please Enter your Own String : hello world and practice makes perfect and hello world again\n",
            "Alphabet : 51\n",
            "digits : 0\n"
          ]
        }
      ]
    },
    {
      "cell_type": "markdown",
      "source": [
        "Question 6: A website requires the users to input username and password to register. Write a program to\n",
        "check the validity of password input by users."
      ],
      "metadata": {
        "id": "B6Q9sSwd3Haf"
      }
    },
    {
      "cell_type": "code",
      "source": [
        "password = input(\"Enter the password: \")\n",
        "st = ''\n",
        "test1 = test2 = test3 = test4 = False\n",
        "for i in range(len(password)):\n",
        "  if(len(password)<13 and len(password)>5):\n",
        "      if(i.islower()):\n",
        "        test1 = True\n",
        "      if(i.isupper()):\n",
        "        test2 = True\n",
        "      if(i.isnumeric()):\n",
        "        test3 = True\n",
        "      if(i in ['@','$','#']):\n",
        "        test4 = True\n",
        "  if(test1 and test2 and test3 and test4):\n",
        "      print(\"\")\n",
        "\n"
      ],
      "metadata": {
        "id": "cod4cKhc25Df"
      },
      "execution_count": null,
      "outputs": []
    }
  ],
  "metadata": {
    "colab": {
      "collapsed_sections": [],
      "name": "Welcome To Colaboratory",
      "toc_visible": true,
      "provenance": [],
      "include_colab_link": true
    },
    "kernelspec": {
      "display_name": "Python 3",
      "name": "python3"
    }
  },
  "nbformat": 4,
  "nbformat_minor": 0
}